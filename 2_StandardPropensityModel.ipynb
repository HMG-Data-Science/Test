{
 "cells": [
  {
   "cell_type": "markdown",
   "id": "f170069a-cb12-4d31-aa1d-37b535edb138",
   "metadata": {},
   "source": [
    "# Standard Propensity Model: Brands in YouGov #\n",
    "\n",
    "***Author:*** *Sourav Das*\n",
    "<br>\n",
    "\n",
    "---\n",
    "\n",
    "<br>\n",
    "\n",
    "**Run Time:** *4 min*\n",
    "\n",
    "***Objective:*** to identify YouGov Pannellists who have high propensity to purchase products of the specific brand.  \n",
    "\n",
    "*Caveats: Because the distribution of current customer is usually pretty low, we include panellists that have positive consideration of dreams or have positive purchase intent*\n",
    "\n",
    "***Next Release: XGBOOST & CATBOOST CLASSIFIERS*** *to be tested for hp space & feature selection.*"
   ]
  },
  {
   "cell_type": "markdown",
   "id": "29cbf1e3-eec0-43b2-956d-93af0d562b13",
   "metadata": {},
   "source": [
    "# Enter Parameters #\n",
    "\n",
    "*Get the brand id from the table: majestic-gizmo-216409.Converged_Production_Tools.brand_category_name_bi*"
   ]
  },
  {
   "cell_type": "code",
   "execution_count": 1,
   "id": "c65f93d3-7db2-427c-9b81-4a6b13d615e2",
   "metadata": {},
   "outputs": [],
   "source": [
    "#Change the brand id below\n",
    "brandid = [12008]\n",
    "Client_name = 'Dominos' #Will help in parameterisation in web application\n",
    "Segment_meaning = '1-Highest Propensity, 20-Lowest'\n",
    "kpi_variable = ['purchase_intent', 'consider', 'current_own'] # options chosen from ['purchase_intent', 'consider', 'current_own']"
   ]
  },
  {
   "cell_type": "markdown",
   "id": "0481ed57-fbdc-42d6-91be-97eb82e59681",
   "metadata": {},
   "source": [
    "## Improve memory allocation ##"
   ]
  },
  {
   "cell_type": "code",
   "execution_count": 3,
   "id": "c43aaf0e-dc5e-44ca-b625-8ea9d351d91f",
   "metadata": {},
   "outputs": [],
   "source": [
    "# cat /proc/sys/vm/overcommit_memory"
   ]
  },
  {
   "cell_type": "code",
   "execution_count": 4,
   "id": "013ec2ee-434f-4511-9348-18617923a089",
   "metadata": {},
   "outputs": [],
   "source": [
    "# !echo 1 > /proc/sys/vm/overcommit_memory\n",
    "# !echo 2 | sudo tee /proc/sys/vm/overcommit_memory"
   ]
  },
  {
   "cell_type": "markdown",
   "id": "a802e49a-f912-4b89-9e7c-1d2f3486d7ea",
   "metadata": {},
   "source": [
    "# Extract data for training Propensity Model #\n",
    "\n",
    "*We use **Demographics and Psychographics features** for modelling. There are c.1850 such features that have been imputed as part of Gap modelling project.*"
   ]
  },
  {
   "cell_type": "code",
   "execution_count": 2,
   "id": "923ebf52-e834-49af-a63a-447f2c7cd883",
   "metadata": {},
   "outputs": [],
   "source": [
    "import pandas as pd\n",
    "from pandas.io import gbq\n",
    "\n",
    "def bq_query_to_df(query):\n",
    " \n",
    "  from google.cloud import bigquery\n",
    "  import os\n",
    "  os.environ[\"GOOGLE_APPLICATION_CREDENTIALS\"] = 'converged_havas_de_json.json'\n",
    " \n",
    "  # print('Fetch Data for query:', sep='\\n')\n",
    "  client = bigquery.Client(project='majestic-gizmo-216409')\n",
    "  return client.query(query).to_dataframe()"
   ]
  },
  {
   "cell_type": "code",
   "execution_count": 3,
   "id": "2c3b2359-a9f1-408b-ab05-92da2c58eca7",
   "metadata": {},
   "outputs": [
    {
     "ename": "BadRequest",
     "evalue": "400 No matching signature for operator CASE; all THEN/ELSE arguments must be coercible to a common type but found: INT64, STRING; actual argument types (WHEN THEN) ELSE: (BOOL STRING) INT64 at [12:22]\n\nLocation: europe-west2\nJob ID: 8fc6fae3-1a64-4ca0-ab73-f0cbb8cb8080\n",
     "output_type": "error",
     "traceback": [
      "\u001b[0;31m---------------------------------------------------------------------------\u001b[0m",
      "\u001b[0;31mBadRequest\u001b[0m                                Traceback (most recent call last)",
      "\u001b[0;32m/var/tmp/ipykernel_18180/2089916961.py\u001b[0m in \u001b[0;36m<module>\u001b[0;34m\u001b[0m\n\u001b[1;32m    104\u001b[0m \u001b[0;31m# parameters = [bigquery.ArrayQueryParameter('brandid', 'ARRAY<INT64>', brandid)]\u001b[0m\u001b[0;34m\u001b[0m\u001b[0;34m\u001b[0m\u001b[0;34m\u001b[0m\u001b[0m\n\u001b[1;32m    105\u001b[0m \u001b[0;34m\u001b[0m\u001b[0m\n\u001b[0;32m--> 106\u001b[0;31m \u001b[0mkpi_df\u001b[0m \u001b[0;34m=\u001b[0m \u001b[0mbq_query_to_df\u001b[0m\u001b[0;34m(\u001b[0m\u001b[0mquery3\u001b[0m\u001b[0;34m)\u001b[0m\u001b[0;34m\u001b[0m\u001b[0;34m\u001b[0m\u001b[0m\n\u001b[0m\u001b[1;32m    107\u001b[0m \u001b[0;34m\u001b[0m\u001b[0m\n\u001b[1;32m    108\u001b[0m \u001b[0;34m\u001b[0m\u001b[0m\n",
      "\u001b[0;32m/var/tmp/ipykernel_18180/4182740265.py\u001b[0m in \u001b[0;36mbq_query_to_df\u001b[0;34m(query)\u001b[0m\n\u001b[1;32m     10\u001b[0m   \u001b[0;31m# print('Fetch Data for query:', sep='\\n')\u001b[0m\u001b[0;34m\u001b[0m\u001b[0;34m\u001b[0m\u001b[0;34m\u001b[0m\u001b[0m\n\u001b[1;32m     11\u001b[0m   \u001b[0mclient\u001b[0m \u001b[0;34m=\u001b[0m \u001b[0mbigquery\u001b[0m\u001b[0;34m.\u001b[0m\u001b[0mClient\u001b[0m\u001b[0;34m(\u001b[0m\u001b[0mproject\u001b[0m\u001b[0;34m=\u001b[0m\u001b[0;34m'majestic-gizmo-216409'\u001b[0m\u001b[0;34m)\u001b[0m\u001b[0;34m\u001b[0m\u001b[0;34m\u001b[0m\u001b[0m\n\u001b[0;32m---> 12\u001b[0;31m   \u001b[0;32mreturn\u001b[0m \u001b[0mclient\u001b[0m\u001b[0;34m.\u001b[0m\u001b[0mquery\u001b[0m\u001b[0;34m(\u001b[0m\u001b[0mquery\u001b[0m\u001b[0;34m)\u001b[0m\u001b[0;34m.\u001b[0m\u001b[0mto_dataframe\u001b[0m\u001b[0;34m(\u001b[0m\u001b[0;34m)\u001b[0m\u001b[0;34m\u001b[0m\u001b[0;34m\u001b[0m\u001b[0m\n\u001b[0m",
      "\u001b[0;32m/opt/conda/lib/python3.7/site-packages/google/cloud/bigquery/job/query.py\u001b[0m in \u001b[0;36mto_dataframe\u001b[0;34m(self, bqstorage_client, dtypes, progress_bar_type, create_bqstorage_client, max_results, geography_as_object, bool_dtype, int_dtype, float_dtype, string_dtype)\u001b[0m\n\u001b[1;32m   1737\u001b[0m                 \u001b[0;34m:\u001b[0m\u001b[0mmod\u001b[0m\u001b[0;34m:\u001b[0m\u001b[0;31m`\u001b[0m\u001b[0mshapely\u001b[0m\u001b[0;31m`\u001b[0m \u001b[0mlibrary\u001b[0m \u001b[0mcannot\u001b[0m \u001b[0mbe\u001b[0m \u001b[0mimported\u001b[0m\u001b[0;34m.\u001b[0m\u001b[0;34m\u001b[0m\u001b[0;34m\u001b[0m\u001b[0m\n\u001b[1;32m   1738\u001b[0m         \"\"\"\n\u001b[0;32m-> 1739\u001b[0;31m         \u001b[0mquery_result\u001b[0m \u001b[0;34m=\u001b[0m \u001b[0mwait_for_query\u001b[0m\u001b[0;34m(\u001b[0m\u001b[0mself\u001b[0m\u001b[0;34m,\u001b[0m \u001b[0mprogress_bar_type\u001b[0m\u001b[0;34m,\u001b[0m \u001b[0mmax_results\u001b[0m\u001b[0;34m=\u001b[0m\u001b[0mmax_results\u001b[0m\u001b[0;34m)\u001b[0m\u001b[0;34m\u001b[0m\u001b[0;34m\u001b[0m\u001b[0m\n\u001b[0m\u001b[1;32m   1740\u001b[0m         return query_result.to_dataframe(\n\u001b[1;32m   1741\u001b[0m             \u001b[0mbqstorage_client\u001b[0m\u001b[0;34m=\u001b[0m\u001b[0mbqstorage_client\u001b[0m\u001b[0;34m,\u001b[0m\u001b[0;34m\u001b[0m\u001b[0;34m\u001b[0m\u001b[0m\n",
      "\u001b[0;32m/opt/conda/lib/python3.7/site-packages/google/cloud/bigquery/_tqdm_helpers.py\u001b[0m in \u001b[0;36mwait_for_query\u001b[0;34m(query_job, progress_bar_type, max_results)\u001b[0m\n\u001b[1;32m    102\u001b[0m     )\n\u001b[1;32m    103\u001b[0m     \u001b[0;32mif\u001b[0m \u001b[0mprogress_bar\u001b[0m \u001b[0;32mis\u001b[0m \u001b[0;32mNone\u001b[0m\u001b[0;34m:\u001b[0m\u001b[0;34m\u001b[0m\u001b[0;34m\u001b[0m\u001b[0m\n\u001b[0;32m--> 104\u001b[0;31m         \u001b[0;32mreturn\u001b[0m \u001b[0mquery_job\u001b[0m\u001b[0;34m.\u001b[0m\u001b[0mresult\u001b[0m\u001b[0;34m(\u001b[0m\u001b[0mmax_results\u001b[0m\u001b[0;34m=\u001b[0m\u001b[0mmax_results\u001b[0m\u001b[0;34m)\u001b[0m\u001b[0;34m\u001b[0m\u001b[0;34m\u001b[0m\u001b[0m\n\u001b[0m\u001b[1;32m    105\u001b[0m \u001b[0;34m\u001b[0m\u001b[0m\n\u001b[1;32m    106\u001b[0m     \u001b[0mi\u001b[0m \u001b[0;34m=\u001b[0m \u001b[0;36m0\u001b[0m\u001b[0;34m\u001b[0m\u001b[0;34m\u001b[0m\u001b[0m\n",
      "\u001b[0;32m/opt/conda/lib/python3.7/site-packages/google/cloud/bigquery/job/query.py\u001b[0m in \u001b[0;36mresult\u001b[0;34m(self, page_size, max_results, retry, timeout, start_index, job_retry)\u001b[0m\n\u001b[1;32m   1505\u001b[0m                 \u001b[0mdo_get_result\u001b[0m \u001b[0;34m=\u001b[0m \u001b[0mjob_retry\u001b[0m\u001b[0;34m(\u001b[0m\u001b[0mdo_get_result\u001b[0m\u001b[0;34m)\u001b[0m\u001b[0;34m\u001b[0m\u001b[0;34m\u001b[0m\u001b[0m\n\u001b[1;32m   1506\u001b[0m \u001b[0;34m\u001b[0m\u001b[0m\n\u001b[0;32m-> 1507\u001b[0;31m             \u001b[0mdo_get_result\u001b[0m\u001b[0;34m(\u001b[0m\u001b[0;34m)\u001b[0m\u001b[0;34m\u001b[0m\u001b[0;34m\u001b[0m\u001b[0m\n\u001b[0m\u001b[1;32m   1508\u001b[0m \u001b[0;34m\u001b[0m\u001b[0m\n\u001b[1;32m   1509\u001b[0m         \u001b[0;32mexcept\u001b[0m \u001b[0mexceptions\u001b[0m\u001b[0;34m.\u001b[0m\u001b[0mGoogleAPICallError\u001b[0m \u001b[0;32mas\u001b[0m \u001b[0mexc\u001b[0m\u001b[0;34m:\u001b[0m\u001b[0;34m\u001b[0m\u001b[0;34m\u001b[0m\u001b[0m\n",
      "\u001b[0;32m/opt/conda/lib/python3.7/site-packages/google/api_core/retry.py\u001b[0m in \u001b[0;36mretry_wrapped_func\u001b[0;34m(*args, **kwargs)\u001b[0m\n\u001b[1;32m    352\u001b[0m                 \u001b[0msleep_generator\u001b[0m\u001b[0;34m,\u001b[0m\u001b[0;34m\u001b[0m\u001b[0;34m\u001b[0m\u001b[0m\n\u001b[1;32m    353\u001b[0m                 \u001b[0mself\u001b[0m\u001b[0;34m.\u001b[0m\u001b[0m_timeout\u001b[0m\u001b[0;34m,\u001b[0m\u001b[0;34m\u001b[0m\u001b[0;34m\u001b[0m\u001b[0m\n\u001b[0;32m--> 354\u001b[0;31m                 \u001b[0mon_error\u001b[0m\u001b[0;34m=\u001b[0m\u001b[0mon_error\u001b[0m\u001b[0;34m,\u001b[0m\u001b[0;34m\u001b[0m\u001b[0;34m\u001b[0m\u001b[0m\n\u001b[0m\u001b[1;32m    355\u001b[0m             )\n\u001b[1;32m    356\u001b[0m \u001b[0;34m\u001b[0m\u001b[0m\n",
      "\u001b[0;32m/opt/conda/lib/python3.7/site-packages/google/api_core/retry.py\u001b[0m in \u001b[0;36mretry_target\u001b[0;34m(target, predicate, sleep_generator, timeout, on_error, **kwargs)\u001b[0m\n\u001b[1;32m    189\u001b[0m     \u001b[0;32mfor\u001b[0m \u001b[0msleep\u001b[0m \u001b[0;32min\u001b[0m \u001b[0msleep_generator\u001b[0m\u001b[0;34m:\u001b[0m\u001b[0;34m\u001b[0m\u001b[0;34m\u001b[0m\u001b[0m\n\u001b[1;32m    190\u001b[0m         \u001b[0;32mtry\u001b[0m\u001b[0;34m:\u001b[0m\u001b[0;34m\u001b[0m\u001b[0;34m\u001b[0m\u001b[0m\n\u001b[0;32m--> 191\u001b[0;31m             \u001b[0;32mreturn\u001b[0m \u001b[0mtarget\u001b[0m\u001b[0;34m(\u001b[0m\u001b[0;34m)\u001b[0m\u001b[0;34m\u001b[0m\u001b[0;34m\u001b[0m\u001b[0m\n\u001b[0m\u001b[1;32m    192\u001b[0m \u001b[0;34m\u001b[0m\u001b[0m\n\u001b[1;32m    193\u001b[0m         \u001b[0;31m# pylint: disable=broad-except\u001b[0m\u001b[0;34m\u001b[0m\u001b[0;34m\u001b[0m\u001b[0;34m\u001b[0m\u001b[0m\n",
      "\u001b[0;32m/opt/conda/lib/python3.7/site-packages/google/cloud/bigquery/job/query.py\u001b[0m in \u001b[0;36mdo_get_result\u001b[0;34m()\u001b[0m\n\u001b[1;32m   1495\u001b[0m                     \u001b[0mself\u001b[0m\u001b[0;34m.\u001b[0m\u001b[0m_job_retry\u001b[0m \u001b[0;34m=\u001b[0m \u001b[0mjob_retry\u001b[0m\u001b[0;34m\u001b[0m\u001b[0;34m\u001b[0m\u001b[0m\n\u001b[1;32m   1496\u001b[0m \u001b[0;34m\u001b[0m\u001b[0m\n\u001b[0;32m-> 1497\u001b[0;31m                 \u001b[0msuper\u001b[0m\u001b[0;34m(\u001b[0m\u001b[0mQueryJob\u001b[0m\u001b[0;34m,\u001b[0m \u001b[0mself\u001b[0m\u001b[0;34m)\u001b[0m\u001b[0;34m.\u001b[0m\u001b[0mresult\u001b[0m\u001b[0;34m(\u001b[0m\u001b[0mretry\u001b[0m\u001b[0;34m=\u001b[0m\u001b[0mretry\u001b[0m\u001b[0;34m,\u001b[0m \u001b[0mtimeout\u001b[0m\u001b[0;34m=\u001b[0m\u001b[0mtimeout\u001b[0m\u001b[0;34m)\u001b[0m\u001b[0;34m\u001b[0m\u001b[0;34m\u001b[0m\u001b[0m\n\u001b[0m\u001b[1;32m   1498\u001b[0m \u001b[0;34m\u001b[0m\u001b[0m\n\u001b[1;32m   1499\u001b[0m                 \u001b[0;31m# Since the job could already be \"done\" (e.g. got a finished job\u001b[0m\u001b[0;34m\u001b[0m\u001b[0;34m\u001b[0m\u001b[0;34m\u001b[0m\u001b[0m\n",
      "\u001b[0;32m/opt/conda/lib/python3.7/site-packages/google/cloud/bigquery/job/base.py\u001b[0m in \u001b[0;36mresult\u001b[0;34m(self, retry, timeout)\u001b[0m\n\u001b[1;32m    909\u001b[0m \u001b[0;34m\u001b[0m\u001b[0m\n\u001b[1;32m    910\u001b[0m         \u001b[0mkwargs\u001b[0m \u001b[0;34m=\u001b[0m \u001b[0;34m{\u001b[0m\u001b[0;34m}\u001b[0m \u001b[0;32mif\u001b[0m \u001b[0mretry\u001b[0m \u001b[0;32mis\u001b[0m \u001b[0mDEFAULT_RETRY\u001b[0m \u001b[0;32melse\u001b[0m \u001b[0;34m{\u001b[0m\u001b[0;34m\"retry\"\u001b[0m\u001b[0;34m:\u001b[0m \u001b[0mretry\u001b[0m\u001b[0;34m}\u001b[0m\u001b[0;34m\u001b[0m\u001b[0;34m\u001b[0m\u001b[0m\n\u001b[0;32m--> 911\u001b[0;31m         \u001b[0;32mreturn\u001b[0m \u001b[0msuper\u001b[0m\u001b[0;34m(\u001b[0m\u001b[0m_AsyncJob\u001b[0m\u001b[0;34m,\u001b[0m \u001b[0mself\u001b[0m\u001b[0;34m)\u001b[0m\u001b[0;34m.\u001b[0m\u001b[0mresult\u001b[0m\u001b[0;34m(\u001b[0m\u001b[0mtimeout\u001b[0m\u001b[0;34m=\u001b[0m\u001b[0mtimeout\u001b[0m\u001b[0;34m,\u001b[0m \u001b[0;34m**\u001b[0m\u001b[0mkwargs\u001b[0m\u001b[0;34m)\u001b[0m\u001b[0;34m\u001b[0m\u001b[0;34m\u001b[0m\u001b[0m\n\u001b[0m\u001b[1;32m    912\u001b[0m \u001b[0;34m\u001b[0m\u001b[0m\n\u001b[1;32m    913\u001b[0m     \u001b[0;32mdef\u001b[0m \u001b[0mcancelled\u001b[0m\u001b[0;34m(\u001b[0m\u001b[0mself\u001b[0m\u001b[0;34m)\u001b[0m\u001b[0;34m:\u001b[0m\u001b[0;34m\u001b[0m\u001b[0;34m\u001b[0m\u001b[0m\n",
      "\u001b[0;32m/opt/conda/lib/python3.7/site-packages/google/api_core/future/polling.py\u001b[0m in \u001b[0;36mresult\u001b[0;34m(self, timeout, retry, polling)\u001b[0m\n\u001b[1;32m    259\u001b[0m             \u001b[0;31m# pylint: disable=raising-bad-type\u001b[0m\u001b[0;34m\u001b[0m\u001b[0;34m\u001b[0m\u001b[0;34m\u001b[0m\u001b[0m\n\u001b[1;32m    260\u001b[0m             \u001b[0;31m# Pylint doesn't recognize that this is valid in this case.\u001b[0m\u001b[0;34m\u001b[0m\u001b[0;34m\u001b[0m\u001b[0;34m\u001b[0m\u001b[0m\n\u001b[0;32m--> 261\u001b[0;31m             \u001b[0;32mraise\u001b[0m \u001b[0mself\u001b[0m\u001b[0;34m.\u001b[0m\u001b[0m_exception\u001b[0m\u001b[0;34m\u001b[0m\u001b[0;34m\u001b[0m\u001b[0m\n\u001b[0m\u001b[1;32m    262\u001b[0m \u001b[0;34m\u001b[0m\u001b[0m\n\u001b[1;32m    263\u001b[0m         \u001b[0;32mreturn\u001b[0m \u001b[0mself\u001b[0m\u001b[0;34m.\u001b[0m\u001b[0m_result\u001b[0m\u001b[0;34m\u001b[0m\u001b[0;34m\u001b[0m\u001b[0m\n",
      "\u001b[0;31mBadRequest\u001b[0m: 400 No matching signature for operator CASE; all THEN/ELSE arguments must be coercible to a common type but found: INT64, STRING; actual argument types (WHEN THEN) ELSE: (BOOL STRING) INT64 at [12:22]\n\nLocation: europe-west2\nJob ID: 8fc6fae3-1a64-4ca0-ab73-f0cbb8cb8080\n"
     ]
    }
   ],
   "source": [
    "from datetime import datetime\n",
    "\n",
    "start_time = datetime.now()\n",
    "import pandas as pd\n",
    "from google.cloud import bigquery\n",
    "\n",
    "#demographics gap filled data\n",
    "query1 = \"\"\"\n",
    "SELECT * from `majestic-gizmo-216409.Yougov_RLD_Gapfilling.demographics_gapfilled_v2`\"\"\" \n",
    "#gap filled demographics table\n",
    "\n",
    "demographic_df = bq_query_to_df(query1)\n",
    "\n",
    "#psychographics gap filled data\n",
    "\n",
    "query2 = \"\"\"\n",
    "SELECT * from `majestic-gizmo-216409.Converged_Production_Tools.psychographics_gap_filling_mice_part2` \"\"\" \n",
    "#gap filled psychographics table\n",
    "psychographic_df = bq_query_to_df(query2)\n",
    "\n",
    "brandid_str = ','.join(str(i) for i in brandid)\n",
    "\n",
    "# brandid_str = '(' + ','.join(str(id) for id in brandid) + ')'\n",
    "\n",
    "#kpi case statement combination based on what is used as kpi variable.\n",
    "kpi_combinations = {\n",
    "    'purchase_intent': \"case when purchase_intent = '{brandid_str}' then 1 else 0 end as KPI\",\n",
    "    'consider': \"case when consider = '1' then 1 else 0 end as KPI\",\n",
    "    'current_own': \"case when current_own = '1' then 1 else 0 end as KPI\",\n",
    "    'purchase_intent_consider': \"case when purchase_intent = '{brandid_str}' or consider = '1' then 1 else 0 end as KPI\",\n",
    "    'purchase_intent_current_own': \"case when purchase_intent = '{brandid_str}' or current_own = '1' then 1 else 0 end as KPI\",\n",
    "    'consider_current_own': \"case when consider = '1' or current_own = '1' then 1 else 0 end as KPI\",\n",
    "    'purchase_intent_consider_current_own': \"case when purchase_intent = '{brandid_str}' or consider = '1' or current_own = '1' then 1 else 0 end as KPI\",\n",
    "}\n",
    "\n",
    "kpi_key = '_'.join(kpi_variable)\n",
    "kpi_case_statement = kpi_combinations.get(kpi_key, \"case when purchase_intent = '1' or consider = '1' or current_own = '1' then 1 else 0 end as KPI\")\n",
    "\n",
    "#kpi data\n",
    "query3 =f\"\"\"\n",
    "\n",
    "With brands as (\n",
    "            SELECT\n",
    "                      a.yougovid as yougov_id,\n",
    "                      MAX(CASE WHEN a.variable = 'current_own' THEN a.value ELSE NULL END) current_own,\n",
    "                      MAX(CASE WHEN a.variable = 'aided' THEN a.value ELSE NULL END) aided,\n",
    "                      MAX(CASE WHEN a.variable = 'consider' THEN a.value ELSE NULL END) consider,\n",
    "                      MAX(CASE WHEN a.variable = 'likelybuy' THEN a.value ELSE NULL END) purchase_intent\n",
    "             FROM    \n",
    "             \n",
    "             (SELECT CASE WHEN VARIABLE = 'likelybuy' and VALUE is not null \n",
    "                          THEN CAST(VALUE AS INTEGER) ELSE brand_id END as brand_id\n",
    "                   ,*EXCEPT(brand_id)\n",
    "                FROM `majestic-gizmo-216409.Converged_Production_Tools.bi_response_copy`\n",
    "             ) AS a\n",
    "        \n",
    "        INNER JOIN (\n",
    "          SELECT\n",
    "                yougovid as yougov_id,\n",
    "                variable,\n",
    "                value,\n",
    "                MAX(date) AS date\n",
    "           FROM `majestic-gizmo-216409.Converged_Production_Tools.bi_response_copy`\n",
    "          WHERE brand_id in ({brandid_str})\n",
    "            and variable in ('current_own','aided','consider')\n",
    "           and value in ('0', '1', '2')\n",
    "          GROUP BY\n",
    "            yougovid,\n",
    "            variable,\n",
    "            value \n",
    "            \n",
    "          UNION ALL\n",
    "\n",
    "          SELECT\n",
    "                yougovid as yougov_id,\n",
    "                variable,\n",
    "                value,\n",
    "                MAX(date) AS date\n",
    "           FROM `majestic-gizmo-216409.Converged_Production_Tools.bi_response_copy`\n",
    "          WHERE variable in ('likelybuy')\n",
    "            and value in ('{brandid_str}')\n",
    "          GROUP BY\n",
    "            yougovid,\n",
    "            variable,\n",
    "            value \n",
    "            \n",
    "            \n",
    "            \n",
    "            ) AS b\n",
    "        ON\n",
    "              a.yougovid = b.yougov_id\n",
    "          AND a.variable = b.variable\n",
    "          AND a.date = b.date\n",
    "        WHERE brand_id in ({brandid_str})\n",
    "          and a.variable in ('current_own','aided','consider','likelybuy')\n",
    "          and a.value in ('0', '1', '2' ,'{brandid_str}')\n",
    "     GROUP BY  a.yougovid) \n",
    " select yougov_id\n",
    "       ,{kpi_case_statement}\n",
    "  from brands\n",
    "  where aided = '1'\n",
    "  \n",
    "\"\"\"\n",
    "\n",
    "# parameters = [bigquery.ArrayQueryParameter('brandid', 'ARRAY<INT64>', brandid)]\n",
    "\n",
    "kpi_df = bq_query_to_df(query3)\n",
    "\n",
    "\n",
    "print(demographic_df.shape)\n",
    "print(psychographic_df.shape)\n",
    "print(kpi_df.shape)\n",
    "\n",
    "end_time = datetime.now()\n",
    "print('Duration: {}'.format(end_time - start_time))"
   ]
  },
  {
   "cell_type": "markdown",
   "id": "a3243225-83fc-4118-b1ce-955129118aef",
   "metadata": {},
   "source": [
    "## Convert Object to Int/Float ##"
   ]
  },
  {
   "cell_type": "code",
   "execution_count": 4,
   "id": "b9fbb743-c5e4-4ad3-8686-f2afe610f85d",
   "metadata": {},
   "outputs": [
    {
     "name": "stdout",
     "output_type": "stream",
     "text": [
      "<class 'pandas.core.frame.DataFrame'>\n",
      "RangeIndex: 370024 entries, 0 to 370023\n",
      "Columns: 247 entries, yougov_id to pdl_price_increase_uk_8\n",
      "dtypes: object(247)\n",
      "memory usage: 697.3+ MB\n"
     ]
    }
   ],
   "source": [
    "demographic_df.info()"
   ]
  },
  {
   "cell_type": "code",
   "execution_count": 5,
   "id": "6d42962f-fb2e-4e3e-8c9f-d7d612113e78",
   "metadata": {},
   "outputs": [
    {
     "name": "stdout",
     "output_type": "stream",
     "text": [
      "<class 'pandas.core.frame.DataFrame'>\n",
      "RangeIndex: 370024 entries, 0 to 370023\n",
      "Columns: 210 entries, yougov_id to attitudes_agree_a6d25d40_6266_11e7_838c_0ec8b917c582\n",
      "dtypes: float64(209), object(1)\n",
      "memory usage: 592.8+ MB\n"
     ]
    }
   ],
   "source": [
    "psychographic_df.info()"
   ]
  },
  {
   "cell_type": "code",
   "execution_count": 6,
   "id": "f7cfbde3-e355-4267-bfa6-7cb4c26a35df",
   "metadata": {},
   "outputs": [
    {
     "name": "stdout",
     "output_type": "stream",
     "text": [
      "<class 'pandas.core.frame.DataFrame'>\n",
      "RangeIndex: 130270 entries, 0 to 130269\n",
      "Data columns (total 2 columns):\n",
      " #   Column     Non-Null Count   Dtype \n",
      "---  ------     --------------   ----- \n",
      " 0   yougov_id  130270 non-null  object\n",
      " 1   KPI        130270 non-null  Int64 \n",
      "dtypes: Int64(1), object(1)\n",
      "memory usage: 2.1+ MB\n"
     ]
    }
   ],
   "source": [
    "kpi_df.info()"
   ]
  },
  {
   "cell_type": "code",
   "execution_count": 7,
   "id": "5db7cbf7-7bcd-4726-a26e-408ed27790dc",
   "metadata": {},
   "outputs": [],
   "source": [
    "demographic_df.set_index('yougov_id', inplace = True)\n",
    "psychographic_df.set_index('yougov_id', inplace = True)\n",
    "kpi_df.set_index('yougov_id', inplace = True)"
   ]
  },
  {
   "cell_type": "code",
   "execution_count": 8,
   "id": "7592f4b8-1ec6-4b76-bce5-b51f11e3147b",
   "metadata": {},
   "outputs": [],
   "source": [
    "demographic_df = demographic_df.apply(pd.to_numeric, errors='coerce')"
   ]
  },
  {
   "cell_type": "code",
   "execution_count": 9,
   "id": "5b3503b5-0b3a-4767-8244-de7923b8cca3",
   "metadata": {},
   "outputs": [
    {
     "name": "stdout",
     "output_type": "stream",
     "text": [
      "<class 'pandas.core.frame.DataFrame'>\n",
      "Index: 370024 entries, FRGTTOSDUTEVIH5ZK6GB4YKFCE to ZSDG3RYKNKKTE5LBENBLM5RRAU\n",
      "Columns: 246 entries, weights to pdl_price_increase_uk_8\n",
      "dtypes: float64(1), int64(245)\n",
      "memory usage: 697.3+ MB\n"
     ]
    }
   ],
   "source": [
    "demographic_df.info()"
   ]
  },
  {
   "cell_type": "code",
   "execution_count": 10,
   "id": "9a226eb2-54d5-4136-9570-0469bb66827c",
   "metadata": {},
   "outputs": [
    {
     "name": "stdout",
     "output_type": "stream",
     "text": [
      "The variable with the maximum number of categories/values is: pdl_country_of_birth\n"
     ]
    }
   ],
   "source": [
    "# initialize a variable to keep track of the maximum number of categories/values\n",
    "max_categories = 0\n",
    "\n",
    "# create a list of column names excluding 'yougov_id' and 'weights'\n",
    "column_list = [col for col in demographic_df.columns if col not in ['yougov_id', 'weights']]\n",
    "\n",
    "# loop through each column in the dataframe\n",
    "for col in demographic_df[column_list].columns:\n",
    "    # get the number of unique categories/values in the column\n",
    "    num_categories = len(demographic_df[col].unique())\n",
    "    # update the maximum number of categories if necessary\n",
    "    if num_categories > max_categories:\n",
    "        max_categories = num_categories\n",
    "        variable_with_max_categories = col\n",
    "\n",
    "# print the variable with the maximum number of categories/values\n",
    "print('The variable with the maximum number of categories/values is:', variable_with_max_categories)"
   ]
  },
  {
   "cell_type": "code",
   "execution_count": 14,
   "id": "c9ec61fc-b9bf-4615-a1c9-6af7918ade4f",
   "metadata": {},
   "outputs": [],
   "source": [
    "# missing_counts = kpi_df.isna().sum() / len(kpi_df)"
   ]
  },
  {
   "cell_type": "markdown",
   "id": "71ddf71c-9620-4405-b6f9-49f27083b8da",
   "metadata": {},
   "source": [
    "## Fill Demographics Variables ##"
   ]
  },
  {
   "cell_type": "code",
   "execution_count": 11,
   "id": "8e0c3049-e661-4704-91fc-f2a7189519cd",
   "metadata": {},
   "outputs": [],
   "source": [
    "import pandas as pd\n",
    "import numpy as np\n",
    "\n",
    "from sklearn.base import TransformerMixin\n",
    "\n",
    "class DataFrameImputer(TransformerMixin):\n",
    "\n",
    "    def __init__(self):\n",
    "        \"\"\"Impute missing values.\n",
    "\n",
    "        Columns of dtype object are imputed with the most frequent value \n",
    "        in column.\n",
    "\n",
    "        Columns of other types are imputed with mean of column.\n",
    "\n",
    "        \"\"\"\n",
    "    def fit(self, X, y=None):\n",
    "\n",
    "        self.fill = pd.Series([X[c].value_counts().index[0]\n",
    "            if X[c].dtype == np.dtype('O') else X[c].mean() for c in X],\n",
    "            index=X.columns)\n",
    "\n",
    "        return self\n",
    "\n",
    "    def transform(self, X, y=None):\n",
    "        return X.fillna(self.fill)\n",
    "\n",
    "X = pd.DataFrame(demographic_df)\n",
    "demog_filled = DataFrameImputer().fit_transform(demographic_df)"
   ]
  },
  {
   "cell_type": "markdown",
   "id": "9d35ef40-854e-4ba6-bb46-4cb32e5ae3d0",
   "metadata": {},
   "source": [
    "### Encode Demographics Variables ###"
   ]
  },
  {
   "cell_type": "code",
   "execution_count": 12,
   "id": "ac6fd0a7-bdca-4474-96df-644b39d593bc",
   "metadata": {},
   "outputs": [
    {
     "data": {
      "text/plain": [
       "(370024, 2138)"
      ]
     },
     "execution_count": 12,
     "metadata": {},
     "output_type": "execute_result"
    }
   ],
   "source": [
    "# demog_filled.set_index('yougov_id', inplace=True)\n",
    "\n",
    "# demog_filled = demog_filled.drop(['pdlc_age','pdlc_generation','pdl_profile_oshlthau','pdlc_Macro_BARB_region'\n",
    "# ,'pdlc_profile_govregldn','pdl_profile_GOR', 'pdlc_ONS_urban'], axis = 1)\n",
    "\n",
    "column_list2 = [col for col in demographic_df.columns if col not in ['yougov_id', 'weights']]\n",
    "\n",
    "\n",
    "demographic_encoded = pd.get_dummies(demographic_df, columns = column_list2)\n",
    "# demog_dummy.reset_index(inplace = True)\n",
    "demographic_encoded.shape"
   ]
  },
  {
   "cell_type": "code",
   "execution_count": 13,
   "id": "1eb9c938-af70-43b1-8300-9a0e1b1ef324",
   "metadata": {},
   "outputs": [
    {
     "data": {
      "text/plain": [
       "(370024, 246)"
      ]
     },
     "execution_count": 13,
     "metadata": {},
     "output_type": "execute_result"
    }
   ],
   "source": [
    "demographic_df.shape"
   ]
  },
  {
   "cell_type": "markdown",
   "id": "ae709f00-0803-4dbb-9663-97f5ffe988db",
   "metadata": {},
   "source": [
    "## Convert Psychographics to binary ##"
   ]
  },
  {
   "cell_type": "code",
   "execution_count": 18,
   "id": "9589a7a1-03d3-4f26-97b8-109e2f5ec80e",
   "metadata": {},
   "outputs": [],
   "source": [
    "# psychographic_df.set_index('yougov_id', inplace = True)\n",
    "# psychographic_df = psychographic_df.replace([9,8,7,6,5,4,3,2,1,-1,-2,-3],[1,1,1,1,1,1,0,0,0,0,0,0])\n",
    "# psychographic_df.reset_index(inplace = True)\n",
    "# psychographic_df.head()"
   ]
  },
  {
   "cell_type": "markdown",
   "id": "8d375cf7-fcdf-48ad-bbc2-af9f6766f3ae",
   "metadata": {},
   "source": [
    "## Create Training & Prediction Datasets ##"
   ]
  },
  {
   "cell_type": "code",
   "execution_count": 14,
   "id": "d16d2e54-8726-4aeb-889a-71542cc5ca34",
   "metadata": {},
   "outputs": [
    {
     "name": "stderr",
     "output_type": "stream",
     "text": [
      "/opt/conda/lib/python3.7/site-packages/pandas/core/reshape/merge.py:121: PerformanceWarning: DataFrame is highly fragmented.  This is usually the result of calling `frame.insert` many times, which has poor performance.  Consider joining all columns at once using pd.concat(axis=1) instead.  To get a de-fragmented frame, use `newframe = frame.copy()`\n",
      "  return op.get_result()\n"
     ]
    },
    {
     "data": {
      "text/html": [
       "<div>\n",
       "<style scoped>\n",
       "    .dataframe tbody tr th:only-of-type {\n",
       "        vertical-align: middle;\n",
       "    }\n",
       "\n",
       "    .dataframe tbody tr th {\n",
       "        vertical-align: top;\n",
       "    }\n",
       "\n",
       "    .dataframe thead th {\n",
       "        text-align: right;\n",
       "    }\n",
       "</style>\n",
       "<table border=\"1\" class=\"dataframe\">\n",
       "  <thead>\n",
       "    <tr style=\"text-align: right;\">\n",
       "      <th></th>\n",
       "      <th>weights</th>\n",
       "      <th>pdlc_profile_govregldn_1</th>\n",
       "      <th>pdlc_profile_govregldn_2</th>\n",
       "      <th>pdlc_profile_govregldn_3</th>\n",
       "      <th>pdlc_profile_govregldn_4</th>\n",
       "      <th>pdlc_profile_govregldn_5</th>\n",
       "      <th>pdlc_profile_govregldn_6</th>\n",
       "      <th>pdlc_profile_govregldn_7</th>\n",
       "      <th>pdlc_profile_govregldn_8</th>\n",
       "      <th>pdlc_profile_govregldn_9</th>\n",
       "      <th>...</th>\n",
       "      <th>attitudes_agree_bdccaf60_a663_11e6_b2db_005056901c24</th>\n",
       "      <th>attitudes_agree_4170cf00_28e6_11e6_a405_005056900127</th>\n",
       "      <th>attitudes_agree_83202325_0cdc_11e8_a9fb_72f77b492c2d</th>\n",
       "      <th>attitudes_agree_6972cc35_1307_11e8_a288_aaf6ce8c0f17</th>\n",
       "      <th>attitudes_agree_17d91685_812b_11e8_ba38_fe820fe0f7d2</th>\n",
       "      <th>attitudes_agree_2f2f0770_28e2_11e6_a405_005056900127</th>\n",
       "      <th>attitudes_agree_4078c1b0_8679_11e7_8bc3_226c21931831</th>\n",
       "      <th>attitudes_agree_2c777820_6f1a_11e8_9e4d_d2bb2aee761e</th>\n",
       "      <th>attitudes_agree_a6d25d40_6266_11e7_838c_0ec8b917c582</th>\n",
       "      <th>KPI</th>\n",
       "    </tr>\n",
       "    <tr>\n",
       "      <th>yougov_id</th>\n",
       "      <th></th>\n",
       "      <th></th>\n",
       "      <th></th>\n",
       "      <th></th>\n",
       "      <th></th>\n",
       "      <th></th>\n",
       "      <th></th>\n",
       "      <th></th>\n",
       "      <th></th>\n",
       "      <th></th>\n",
       "      <th></th>\n",
       "      <th></th>\n",
       "      <th></th>\n",
       "      <th></th>\n",
       "      <th></th>\n",
       "      <th></th>\n",
       "      <th></th>\n",
       "      <th></th>\n",
       "      <th></th>\n",
       "      <th></th>\n",
       "      <th></th>\n",
       "    </tr>\n",
       "  </thead>\n",
       "  <tbody>\n",
       "    <tr>\n",
       "      <th>VJOP5EAKG23YU2FVA55MQONZMQ</th>\n",
       "      <td>0.135072</td>\n",
       "      <td>0</td>\n",
       "      <td>0</td>\n",
       "      <td>0</td>\n",
       "      <td>0</td>\n",
       "      <td>0</td>\n",
       "      <td>1</td>\n",
       "      <td>0</td>\n",
       "      <td>0</td>\n",
       "      <td>0</td>\n",
       "      <td>...</td>\n",
       "      <td>4.0</td>\n",
       "      <td>3.0</td>\n",
       "      <td>4.0</td>\n",
       "      <td>3.0</td>\n",
       "      <td>2.0</td>\n",
       "      <td>3.0</td>\n",
       "      <td>1.0</td>\n",
       "      <td>3.0</td>\n",
       "      <td>1.0</td>\n",
       "      <td>0</td>\n",
       "    </tr>\n",
       "    <tr>\n",
       "      <th>F5WMXKTIRPKK5HFOBGXOTXUL3E</th>\n",
       "      <td>0.528796</td>\n",
       "      <td>0</td>\n",
       "      <td>0</td>\n",
       "      <td>0</td>\n",
       "      <td>0</td>\n",
       "      <td>0</td>\n",
       "      <td>0</td>\n",
       "      <td>0</td>\n",
       "      <td>0</td>\n",
       "      <td>0</td>\n",
       "      <td>...</td>\n",
       "      <td>1.0</td>\n",
       "      <td>2.0</td>\n",
       "      <td>4.0</td>\n",
       "      <td>3.0</td>\n",
       "      <td>3.0</td>\n",
       "      <td>3.0</td>\n",
       "      <td>3.0</td>\n",
       "      <td>3.0</td>\n",
       "      <td>1.0</td>\n",
       "      <td>0</td>\n",
       "    </tr>\n",
       "    <tr>\n",
       "      <th>ZIWW3NO2SK3KKZICOZMAACAXGM</th>\n",
       "      <td>0.721214</td>\n",
       "      <td>0</td>\n",
       "      <td>0</td>\n",
       "      <td>0</td>\n",
       "      <td>0</td>\n",
       "      <td>0</td>\n",
       "      <td>0</td>\n",
       "      <td>0</td>\n",
       "      <td>0</td>\n",
       "      <td>0</td>\n",
       "      <td>...</td>\n",
       "      <td>3.0</td>\n",
       "      <td>1.0</td>\n",
       "      <td>3.0</td>\n",
       "      <td>2.0</td>\n",
       "      <td>2.0</td>\n",
       "      <td>3.0</td>\n",
       "      <td>1.0</td>\n",
       "      <td>3.0</td>\n",
       "      <td>3.0</td>\n",
       "      <td>0</td>\n",
       "    </tr>\n",
       "    <tr>\n",
       "      <th>GRJBJ74PGNUQSPCH73KQCJVEXI</th>\n",
       "      <td>3.117279</td>\n",
       "      <td>0</td>\n",
       "      <td>0</td>\n",
       "      <td>0</td>\n",
       "      <td>0</td>\n",
       "      <td>0</td>\n",
       "      <td>0</td>\n",
       "      <td>0</td>\n",
       "      <td>0</td>\n",
       "      <td>0</td>\n",
       "      <td>...</td>\n",
       "      <td>3.0</td>\n",
       "      <td>3.0</td>\n",
       "      <td>2.0</td>\n",
       "      <td>1.0</td>\n",
       "      <td>3.0</td>\n",
       "      <td>1.0</td>\n",
       "      <td>2.0</td>\n",
       "      <td>4.0</td>\n",
       "      <td>2.0</td>\n",
       "      <td>0</td>\n",
       "    </tr>\n",
       "    <tr>\n",
       "      <th>VKJAB57OBIITQ63W7VJ7EFTMRY</th>\n",
       "      <td>0.472625</td>\n",
       "      <td>0</td>\n",
       "      <td>0</td>\n",
       "      <td>0</td>\n",
       "      <td>0</td>\n",
       "      <td>0</td>\n",
       "      <td>0</td>\n",
       "      <td>0</td>\n",
       "      <td>0</td>\n",
       "      <td>0</td>\n",
       "      <td>...</td>\n",
       "      <td>2.0</td>\n",
       "      <td>1.0</td>\n",
       "      <td>3.0</td>\n",
       "      <td>2.0</td>\n",
       "      <td>3.0</td>\n",
       "      <td>3.0</td>\n",
       "      <td>3.0</td>\n",
       "      <td>2.0</td>\n",
       "      <td>1.0</td>\n",
       "      <td>0</td>\n",
       "    </tr>\n",
       "  </tbody>\n",
       "</table>\n",
       "<p>5 rows × 2348 columns</p>\n",
       "</div>"
      ],
      "text/plain": [
       "                             weights  pdlc_profile_govregldn_1  \\\n",
       "yougov_id                                                        \n",
       "VJOP5EAKG23YU2FVA55MQONZMQ  0.135072                         0   \n",
       "F5WMXKTIRPKK5HFOBGXOTXUL3E  0.528796                         0   \n",
       "ZIWW3NO2SK3KKZICOZMAACAXGM  0.721214                         0   \n",
       "GRJBJ74PGNUQSPCH73KQCJVEXI  3.117279                         0   \n",
       "VKJAB57OBIITQ63W7VJ7EFTMRY  0.472625                         0   \n",
       "\n",
       "                            pdlc_profile_govregldn_2  \\\n",
       "yougov_id                                              \n",
       "VJOP5EAKG23YU2FVA55MQONZMQ                         0   \n",
       "F5WMXKTIRPKK5HFOBGXOTXUL3E                         0   \n",
       "ZIWW3NO2SK3KKZICOZMAACAXGM                         0   \n",
       "GRJBJ74PGNUQSPCH73KQCJVEXI                         0   \n",
       "VKJAB57OBIITQ63W7VJ7EFTMRY                         0   \n",
       "\n",
       "                            pdlc_profile_govregldn_3  \\\n",
       "yougov_id                                              \n",
       "VJOP5EAKG23YU2FVA55MQONZMQ                         0   \n",
       "F5WMXKTIRPKK5HFOBGXOTXUL3E                         0   \n",
       "ZIWW3NO2SK3KKZICOZMAACAXGM                         0   \n",
       "GRJBJ74PGNUQSPCH73KQCJVEXI                         0   \n",
       "VKJAB57OBIITQ63W7VJ7EFTMRY                         0   \n",
       "\n",
       "                            pdlc_profile_govregldn_4  \\\n",
       "yougov_id                                              \n",
       "VJOP5EAKG23YU2FVA55MQONZMQ                         0   \n",
       "F5WMXKTIRPKK5HFOBGXOTXUL3E                         0   \n",
       "ZIWW3NO2SK3KKZICOZMAACAXGM                         0   \n",
       "GRJBJ74PGNUQSPCH73KQCJVEXI                         0   \n",
       "VKJAB57OBIITQ63W7VJ7EFTMRY                         0   \n",
       "\n",
       "                            pdlc_profile_govregldn_5  \\\n",
       "yougov_id                                              \n",
       "VJOP5EAKG23YU2FVA55MQONZMQ                         0   \n",
       "F5WMXKTIRPKK5HFOBGXOTXUL3E                         0   \n",
       "ZIWW3NO2SK3KKZICOZMAACAXGM                         0   \n",
       "GRJBJ74PGNUQSPCH73KQCJVEXI                         0   \n",
       "VKJAB57OBIITQ63W7VJ7EFTMRY                         0   \n",
       "\n",
       "                            pdlc_profile_govregldn_6  \\\n",
       "yougov_id                                              \n",
       "VJOP5EAKG23YU2FVA55MQONZMQ                         1   \n",
       "F5WMXKTIRPKK5HFOBGXOTXUL3E                         0   \n",
       "ZIWW3NO2SK3KKZICOZMAACAXGM                         0   \n",
       "GRJBJ74PGNUQSPCH73KQCJVEXI                         0   \n",
       "VKJAB57OBIITQ63W7VJ7EFTMRY                         0   \n",
       "\n",
       "                            pdlc_profile_govregldn_7  \\\n",
       "yougov_id                                              \n",
       "VJOP5EAKG23YU2FVA55MQONZMQ                         0   \n",
       "F5WMXKTIRPKK5HFOBGXOTXUL3E                         0   \n",
       "ZIWW3NO2SK3KKZICOZMAACAXGM                         0   \n",
       "GRJBJ74PGNUQSPCH73KQCJVEXI                         0   \n",
       "VKJAB57OBIITQ63W7VJ7EFTMRY                         0   \n",
       "\n",
       "                            pdlc_profile_govregldn_8  \\\n",
       "yougov_id                                              \n",
       "VJOP5EAKG23YU2FVA55MQONZMQ                         0   \n",
       "F5WMXKTIRPKK5HFOBGXOTXUL3E                         0   \n",
       "ZIWW3NO2SK3KKZICOZMAACAXGM                         0   \n",
       "GRJBJ74PGNUQSPCH73KQCJVEXI                         0   \n",
       "VKJAB57OBIITQ63W7VJ7EFTMRY                         0   \n",
       "\n",
       "                            pdlc_profile_govregldn_9  ...  \\\n",
       "yougov_id                                             ...   \n",
       "VJOP5EAKG23YU2FVA55MQONZMQ                         0  ...   \n",
       "F5WMXKTIRPKK5HFOBGXOTXUL3E                         0  ...   \n",
       "ZIWW3NO2SK3KKZICOZMAACAXGM                         0  ...   \n",
       "GRJBJ74PGNUQSPCH73KQCJVEXI                         0  ...   \n",
       "VKJAB57OBIITQ63W7VJ7EFTMRY                         0  ...   \n",
       "\n",
       "                            attitudes_agree_bdccaf60_a663_11e6_b2db_005056901c24  \\\n",
       "yougov_id                                                                          \n",
       "VJOP5EAKG23YU2FVA55MQONZMQ                                                4.0      \n",
       "F5WMXKTIRPKK5HFOBGXOTXUL3E                                                1.0      \n",
       "ZIWW3NO2SK3KKZICOZMAACAXGM                                                3.0      \n",
       "GRJBJ74PGNUQSPCH73KQCJVEXI                                                3.0      \n",
       "VKJAB57OBIITQ63W7VJ7EFTMRY                                                2.0      \n",
       "\n",
       "                            attitudes_agree_4170cf00_28e6_11e6_a405_005056900127  \\\n",
       "yougov_id                                                                          \n",
       "VJOP5EAKG23YU2FVA55MQONZMQ                                                3.0      \n",
       "F5WMXKTIRPKK5HFOBGXOTXUL3E                                                2.0      \n",
       "ZIWW3NO2SK3KKZICOZMAACAXGM                                                1.0      \n",
       "GRJBJ74PGNUQSPCH73KQCJVEXI                                                3.0      \n",
       "VKJAB57OBIITQ63W7VJ7EFTMRY                                                1.0      \n",
       "\n",
       "                            attitudes_agree_83202325_0cdc_11e8_a9fb_72f77b492c2d  \\\n",
       "yougov_id                                                                          \n",
       "VJOP5EAKG23YU2FVA55MQONZMQ                                                4.0      \n",
       "F5WMXKTIRPKK5HFOBGXOTXUL3E                                                4.0      \n",
       "ZIWW3NO2SK3KKZICOZMAACAXGM                                                3.0      \n",
       "GRJBJ74PGNUQSPCH73KQCJVEXI                                                2.0      \n",
       "VKJAB57OBIITQ63W7VJ7EFTMRY                                                3.0      \n",
       "\n",
       "                            attitudes_agree_6972cc35_1307_11e8_a288_aaf6ce8c0f17  \\\n",
       "yougov_id                                                                          \n",
       "VJOP5EAKG23YU2FVA55MQONZMQ                                                3.0      \n",
       "F5WMXKTIRPKK5HFOBGXOTXUL3E                                                3.0      \n",
       "ZIWW3NO2SK3KKZICOZMAACAXGM                                                2.0      \n",
       "GRJBJ74PGNUQSPCH73KQCJVEXI                                                1.0      \n",
       "VKJAB57OBIITQ63W7VJ7EFTMRY                                                2.0      \n",
       "\n",
       "                            attitudes_agree_17d91685_812b_11e8_ba38_fe820fe0f7d2  \\\n",
       "yougov_id                                                                          \n",
       "VJOP5EAKG23YU2FVA55MQONZMQ                                                2.0      \n",
       "F5WMXKTIRPKK5HFOBGXOTXUL3E                                                3.0      \n",
       "ZIWW3NO2SK3KKZICOZMAACAXGM                                                2.0      \n",
       "GRJBJ74PGNUQSPCH73KQCJVEXI                                                3.0      \n",
       "VKJAB57OBIITQ63W7VJ7EFTMRY                                                3.0      \n",
       "\n",
       "                            attitudes_agree_2f2f0770_28e2_11e6_a405_005056900127  \\\n",
       "yougov_id                                                                          \n",
       "VJOP5EAKG23YU2FVA55MQONZMQ                                                3.0      \n",
       "F5WMXKTIRPKK5HFOBGXOTXUL3E                                                3.0      \n",
       "ZIWW3NO2SK3KKZICOZMAACAXGM                                                3.0      \n",
       "GRJBJ74PGNUQSPCH73KQCJVEXI                                                1.0      \n",
       "VKJAB57OBIITQ63W7VJ7EFTMRY                                                3.0      \n",
       "\n",
       "                            attitudes_agree_4078c1b0_8679_11e7_8bc3_226c21931831  \\\n",
       "yougov_id                                                                          \n",
       "VJOP5EAKG23YU2FVA55MQONZMQ                                                1.0      \n",
       "F5WMXKTIRPKK5HFOBGXOTXUL3E                                                3.0      \n",
       "ZIWW3NO2SK3KKZICOZMAACAXGM                                                1.0      \n",
       "GRJBJ74PGNUQSPCH73KQCJVEXI                                                2.0      \n",
       "VKJAB57OBIITQ63W7VJ7EFTMRY                                                3.0      \n",
       "\n",
       "                            attitudes_agree_2c777820_6f1a_11e8_9e4d_d2bb2aee761e  \\\n",
       "yougov_id                                                                          \n",
       "VJOP5EAKG23YU2FVA55MQONZMQ                                                3.0      \n",
       "F5WMXKTIRPKK5HFOBGXOTXUL3E                                                3.0      \n",
       "ZIWW3NO2SK3KKZICOZMAACAXGM                                                3.0      \n",
       "GRJBJ74PGNUQSPCH73KQCJVEXI                                                4.0      \n",
       "VKJAB57OBIITQ63W7VJ7EFTMRY                                                2.0      \n",
       "\n",
       "                            attitudes_agree_a6d25d40_6266_11e7_838c_0ec8b917c582  \\\n",
       "yougov_id                                                                          \n",
       "VJOP5EAKG23YU2FVA55MQONZMQ                                                1.0      \n",
       "F5WMXKTIRPKK5HFOBGXOTXUL3E                                                1.0      \n",
       "ZIWW3NO2SK3KKZICOZMAACAXGM                                                3.0      \n",
       "GRJBJ74PGNUQSPCH73KQCJVEXI                                                2.0      \n",
       "VKJAB57OBIITQ63W7VJ7EFTMRY                                                1.0      \n",
       "\n",
       "                            KPI  \n",
       "yougov_id                        \n",
       "VJOP5EAKG23YU2FVA55MQONZMQ    0  \n",
       "F5WMXKTIRPKK5HFOBGXOTXUL3E    0  \n",
       "ZIWW3NO2SK3KKZICOZMAACAXGM    0  \n",
       "GRJBJ74PGNUQSPCH73KQCJVEXI    0  \n",
       "VKJAB57OBIITQ63W7VJ7EFTMRY    0  \n",
       "\n",
       "[5 rows x 2348 columns]"
      ]
     },
     "execution_count": 14,
     "metadata": {},
     "output_type": "execute_result"
    }
   ],
   "source": [
    "#Training Dataset has KPI values\n",
    "import pandas as pd\n",
    "# merge the dataframes together\n",
    "df_original = demographic_df.merge(psychographic_df, on='yougov_id').merge(kpi_df, on='yougov_id')\n",
    "df_training = demographic_encoded.merge(psychographic_df, on='yougov_id').merge(kpi_df, on='yougov_id')\n",
    "df_training.head()"
   ]
  },
  {
   "cell_type": "code",
   "execution_count": 15,
   "id": "be978af5-46f3-402f-9809-eee863c32a2a",
   "metadata": {},
   "outputs": [
    {
     "data": {
      "text/html": [
       "<div>\n",
       "<style scoped>\n",
       "    .dataframe tbody tr th:only-of-type {\n",
       "        vertical-align: middle;\n",
       "    }\n",
       "\n",
       "    .dataframe tbody tr th {\n",
       "        vertical-align: top;\n",
       "    }\n",
       "\n",
       "    .dataframe thead th {\n",
       "        text-align: right;\n",
       "    }\n",
       "</style>\n",
       "<table border=\"1\" class=\"dataframe\">\n",
       "  <thead>\n",
       "    <tr style=\"text-align: right;\">\n",
       "      <th></th>\n",
       "      <th>weights</th>\n",
       "      <th>pdlc_profile_govregldn</th>\n",
       "      <th>pdl_profile_socialgrade_cie</th>\n",
       "      <th>pdl_profile_work_type</th>\n",
       "      <th>pdlc_age</th>\n",
       "      <th>pdl_profile_gender</th>\n",
       "      <th>pdlc_ONS_urban</th>\n",
       "      <th>pdl_profile_work_stat</th>\n",
       "      <th>pdl_country_of_birth</th>\n",
       "      <th>pdlc_children_aged_18_under</th>\n",
       "      <th>...</th>\n",
       "      <th>issues_scale_94da41c0_b364_11e3_90f3_005056900127</th>\n",
       "      <th>attitudes_agree_bdccaf60_a663_11e6_b2db_005056901c24</th>\n",
       "      <th>attitudes_agree_4170cf00_28e6_11e6_a405_005056900127</th>\n",
       "      <th>attitudes_agree_83202325_0cdc_11e8_a9fb_72f77b492c2d</th>\n",
       "      <th>attitudes_agree_6972cc35_1307_11e8_a288_aaf6ce8c0f17</th>\n",
       "      <th>attitudes_agree_17d91685_812b_11e8_ba38_fe820fe0f7d2</th>\n",
       "      <th>attitudes_agree_2f2f0770_28e2_11e6_a405_005056900127</th>\n",
       "      <th>attitudes_agree_4078c1b0_8679_11e7_8bc3_226c21931831</th>\n",
       "      <th>attitudes_agree_2c777820_6f1a_11e8_9e4d_d2bb2aee761e</th>\n",
       "      <th>attitudes_agree_a6d25d40_6266_11e7_838c_0ec8b917c582</th>\n",
       "    </tr>\n",
       "    <tr>\n",
       "      <th>yougov_id</th>\n",
       "      <th></th>\n",
       "      <th></th>\n",
       "      <th></th>\n",
       "      <th></th>\n",
       "      <th></th>\n",
       "      <th></th>\n",
       "      <th></th>\n",
       "      <th></th>\n",
       "      <th></th>\n",
       "      <th></th>\n",
       "      <th></th>\n",
       "      <th></th>\n",
       "      <th></th>\n",
       "      <th></th>\n",
       "      <th></th>\n",
       "      <th></th>\n",
       "      <th></th>\n",
       "      <th></th>\n",
       "      <th></th>\n",
       "      <th></th>\n",
       "      <th></th>\n",
       "    </tr>\n",
       "  </thead>\n",
       "  <tbody>\n",
       "    <tr>\n",
       "      <th>FRGTTOSDUTEVIH5ZK6GB4YKFCE</th>\n",
       "      <td>0.048625</td>\n",
       "      <td>10</td>\n",
       "      <td>1</td>\n",
       "      <td>1</td>\n",
       "      <td>74</td>\n",
       "      <td>2</td>\n",
       "      <td>3</td>\n",
       "      <td>1</td>\n",
       "      <td>1</td>\n",
       "      <td>2</td>\n",
       "      <td>...</td>\n",
       "      <td>1.0</td>\n",
       "      <td>3.0</td>\n",
       "      <td>3.0</td>\n",
       "      <td>3.0</td>\n",
       "      <td>2.0</td>\n",
       "      <td>3.0</td>\n",
       "      <td>2.0</td>\n",
       "      <td>3.0</td>\n",
       "      <td>3.0</td>\n",
       "      <td>1.0</td>\n",
       "    </tr>\n",
       "    <tr>\n",
       "      <th>VJOP5EAKG23YU2FVA55MQONZMQ</th>\n",
       "      <td>0.135072</td>\n",
       "      <td>6</td>\n",
       "      <td>1</td>\n",
       "      <td>1</td>\n",
       "      <td>58</td>\n",
       "      <td>1</td>\n",
       "      <td>3</td>\n",
       "      <td>1</td>\n",
       "      <td>1</td>\n",
       "      <td>2</td>\n",
       "      <td>...</td>\n",
       "      <td>0.0</td>\n",
       "      <td>4.0</td>\n",
       "      <td>3.0</td>\n",
       "      <td>4.0</td>\n",
       "      <td>3.0</td>\n",
       "      <td>2.0</td>\n",
       "      <td>3.0</td>\n",
       "      <td>1.0</td>\n",
       "      <td>3.0</td>\n",
       "      <td>1.0</td>\n",
       "    </tr>\n",
       "    <tr>\n",
       "      <th>KF3Y72AF5XZYONZWSOXCX65HL4</th>\n",
       "      <td>0.336475</td>\n",
       "      <td>8</td>\n",
       "      <td>1</td>\n",
       "      <td>1</td>\n",
       "      <td>68</td>\n",
       "      <td>2</td>\n",
       "      <td>3</td>\n",
       "      <td>1</td>\n",
       "      <td>1</td>\n",
       "      <td>2</td>\n",
       "      <td>...</td>\n",
       "      <td>2.0</td>\n",
       "      <td>3.0</td>\n",
       "      <td>1.0</td>\n",
       "      <td>2.0</td>\n",
       "      <td>2.0</td>\n",
       "      <td>2.0</td>\n",
       "      <td>3.0</td>\n",
       "      <td>1.0</td>\n",
       "      <td>2.0</td>\n",
       "      <td>0.0</td>\n",
       "    </tr>\n",
       "    <tr>\n",
       "      <th>NREZ4PO6FMQXFBH6WVGQU5E2BI</th>\n",
       "      <td>1.821622</td>\n",
       "      <td>8</td>\n",
       "      <td>1</td>\n",
       "      <td>1</td>\n",
       "      <td>67</td>\n",
       "      <td>1</td>\n",
       "      <td>1</td>\n",
       "      <td>1</td>\n",
       "      <td>15</td>\n",
       "      <td>2</td>\n",
       "      <td>...</td>\n",
       "      <td>3.0</td>\n",
       "      <td>2.0</td>\n",
       "      <td>1.0</td>\n",
       "      <td>3.0</td>\n",
       "      <td>3.0</td>\n",
       "      <td>2.0</td>\n",
       "      <td>3.0</td>\n",
       "      <td>1.0</td>\n",
       "      <td>2.0</td>\n",
       "      <td>1.0</td>\n",
       "    </tr>\n",
       "    <tr>\n",
       "      <th>VKPF7B6LTUREAVH4NJWSM7TWH4</th>\n",
       "      <td>0.137971</td>\n",
       "      <td>9</td>\n",
       "      <td>1</td>\n",
       "      <td>1</td>\n",
       "      <td>65</td>\n",
       "      <td>1</td>\n",
       "      <td>3</td>\n",
       "      <td>1</td>\n",
       "      <td>1</td>\n",
       "      <td>2</td>\n",
       "      <td>...</td>\n",
       "      <td>1.0</td>\n",
       "      <td>3.0</td>\n",
       "      <td>2.0</td>\n",
       "      <td>3.0</td>\n",
       "      <td>2.0</td>\n",
       "      <td>2.0</td>\n",
       "      <td>2.0</td>\n",
       "      <td>2.0</td>\n",
       "      <td>3.0</td>\n",
       "      <td>0.0</td>\n",
       "    </tr>\n",
       "  </tbody>\n",
       "</table>\n",
       "<p>5 rows × 455 columns</p>\n",
       "</div>"
      ],
      "text/plain": [
       "                             weights  pdlc_profile_govregldn  \\\n",
       "yougov_id                                                      \n",
       "FRGTTOSDUTEVIH5ZK6GB4YKFCE  0.048625                      10   \n",
       "VJOP5EAKG23YU2FVA55MQONZMQ  0.135072                       6   \n",
       "KF3Y72AF5XZYONZWSOXCX65HL4  0.336475                       8   \n",
       "NREZ4PO6FMQXFBH6WVGQU5E2BI  1.821622                       8   \n",
       "VKPF7B6LTUREAVH4NJWSM7TWH4  0.137971                       9   \n",
       "\n",
       "                            pdl_profile_socialgrade_cie  \\\n",
       "yougov_id                                                 \n",
       "FRGTTOSDUTEVIH5ZK6GB4YKFCE                            1   \n",
       "VJOP5EAKG23YU2FVA55MQONZMQ                            1   \n",
       "KF3Y72AF5XZYONZWSOXCX65HL4                            1   \n",
       "NREZ4PO6FMQXFBH6WVGQU5E2BI                            1   \n",
       "VKPF7B6LTUREAVH4NJWSM7TWH4                            1   \n",
       "\n",
       "                            pdl_profile_work_type  pdlc_age  \\\n",
       "yougov_id                                                     \n",
       "FRGTTOSDUTEVIH5ZK6GB4YKFCE                      1        74   \n",
       "VJOP5EAKG23YU2FVA55MQONZMQ                      1        58   \n",
       "KF3Y72AF5XZYONZWSOXCX65HL4                      1        68   \n",
       "NREZ4PO6FMQXFBH6WVGQU5E2BI                      1        67   \n",
       "VKPF7B6LTUREAVH4NJWSM7TWH4                      1        65   \n",
       "\n",
       "                            pdl_profile_gender  pdlc_ONS_urban  \\\n",
       "yougov_id                                                        \n",
       "FRGTTOSDUTEVIH5ZK6GB4YKFCE                   2               3   \n",
       "VJOP5EAKG23YU2FVA55MQONZMQ                   1               3   \n",
       "KF3Y72AF5XZYONZWSOXCX65HL4                   2               3   \n",
       "NREZ4PO6FMQXFBH6WVGQU5E2BI                   1               1   \n",
       "VKPF7B6LTUREAVH4NJWSM7TWH4                   1               3   \n",
       "\n",
       "                            pdl_profile_work_stat  pdl_country_of_birth  \\\n",
       "yougov_id                                                                 \n",
       "FRGTTOSDUTEVIH5ZK6GB4YKFCE                      1                     1   \n",
       "VJOP5EAKG23YU2FVA55MQONZMQ                      1                     1   \n",
       "KF3Y72AF5XZYONZWSOXCX65HL4                      1                     1   \n",
       "NREZ4PO6FMQXFBH6WVGQU5E2BI                      1                    15   \n",
       "VKPF7B6LTUREAVH4NJWSM7TWH4                      1                     1   \n",
       "\n",
       "                            pdlc_children_aged_18_under  ...  \\\n",
       "yougov_id                                                ...   \n",
       "FRGTTOSDUTEVIH5ZK6GB4YKFCE                            2  ...   \n",
       "VJOP5EAKG23YU2FVA55MQONZMQ                            2  ...   \n",
       "KF3Y72AF5XZYONZWSOXCX65HL4                            2  ...   \n",
       "NREZ4PO6FMQXFBH6WVGQU5E2BI                            2  ...   \n",
       "VKPF7B6LTUREAVH4NJWSM7TWH4                            2  ...   \n",
       "\n",
       "                            issues_scale_94da41c0_b364_11e3_90f3_005056900127  \\\n",
       "yougov_id                                                                       \n",
       "FRGTTOSDUTEVIH5ZK6GB4YKFCE                                                1.0   \n",
       "VJOP5EAKG23YU2FVA55MQONZMQ                                                0.0   \n",
       "KF3Y72AF5XZYONZWSOXCX65HL4                                                2.0   \n",
       "NREZ4PO6FMQXFBH6WVGQU5E2BI                                                3.0   \n",
       "VKPF7B6LTUREAVH4NJWSM7TWH4                                                1.0   \n",
       "\n",
       "                            attitudes_agree_bdccaf60_a663_11e6_b2db_005056901c24  \\\n",
       "yougov_id                                                                          \n",
       "FRGTTOSDUTEVIH5ZK6GB4YKFCE                                                3.0      \n",
       "VJOP5EAKG23YU2FVA55MQONZMQ                                                4.0      \n",
       "KF3Y72AF5XZYONZWSOXCX65HL4                                                3.0      \n",
       "NREZ4PO6FMQXFBH6WVGQU5E2BI                                                2.0      \n",
       "VKPF7B6LTUREAVH4NJWSM7TWH4                                                3.0      \n",
       "\n",
       "                            attitudes_agree_4170cf00_28e6_11e6_a405_005056900127  \\\n",
       "yougov_id                                                                          \n",
       "FRGTTOSDUTEVIH5ZK6GB4YKFCE                                                3.0      \n",
       "VJOP5EAKG23YU2FVA55MQONZMQ                                                3.0      \n",
       "KF3Y72AF5XZYONZWSOXCX65HL4                                                1.0      \n",
       "NREZ4PO6FMQXFBH6WVGQU5E2BI                                                1.0      \n",
       "VKPF7B6LTUREAVH4NJWSM7TWH4                                                2.0      \n",
       "\n",
       "                            attitudes_agree_83202325_0cdc_11e8_a9fb_72f77b492c2d  \\\n",
       "yougov_id                                                                          \n",
       "FRGTTOSDUTEVIH5ZK6GB4YKFCE                                                3.0      \n",
       "VJOP5EAKG23YU2FVA55MQONZMQ                                                4.0      \n",
       "KF3Y72AF5XZYONZWSOXCX65HL4                                                2.0      \n",
       "NREZ4PO6FMQXFBH6WVGQU5E2BI                                                3.0      \n",
       "VKPF7B6LTUREAVH4NJWSM7TWH4                                                3.0      \n",
       "\n",
       "                            attitudes_agree_6972cc35_1307_11e8_a288_aaf6ce8c0f17  \\\n",
       "yougov_id                                                                          \n",
       "FRGTTOSDUTEVIH5ZK6GB4YKFCE                                                2.0      \n",
       "VJOP5EAKG23YU2FVA55MQONZMQ                                                3.0      \n",
       "KF3Y72AF5XZYONZWSOXCX65HL4                                                2.0      \n",
       "NREZ4PO6FMQXFBH6WVGQU5E2BI                                                3.0      \n",
       "VKPF7B6LTUREAVH4NJWSM7TWH4                                                2.0      \n",
       "\n",
       "                            attitudes_agree_17d91685_812b_11e8_ba38_fe820fe0f7d2  \\\n",
       "yougov_id                                                                          \n",
       "FRGTTOSDUTEVIH5ZK6GB4YKFCE                                                3.0      \n",
       "VJOP5EAKG23YU2FVA55MQONZMQ                                                2.0      \n",
       "KF3Y72AF5XZYONZWSOXCX65HL4                                                2.0      \n",
       "NREZ4PO6FMQXFBH6WVGQU5E2BI                                                2.0      \n",
       "VKPF7B6LTUREAVH4NJWSM7TWH4                                                2.0      \n",
       "\n",
       "                            attitudes_agree_2f2f0770_28e2_11e6_a405_005056900127  \\\n",
       "yougov_id                                                                          \n",
       "FRGTTOSDUTEVIH5ZK6GB4YKFCE                                                2.0      \n",
       "VJOP5EAKG23YU2FVA55MQONZMQ                                                3.0      \n",
       "KF3Y72AF5XZYONZWSOXCX65HL4                                                3.0      \n",
       "NREZ4PO6FMQXFBH6WVGQU5E2BI                                                3.0      \n",
       "VKPF7B6LTUREAVH4NJWSM7TWH4                                                2.0      \n",
       "\n",
       "                            attitudes_agree_4078c1b0_8679_11e7_8bc3_226c21931831  \\\n",
       "yougov_id                                                                          \n",
       "FRGTTOSDUTEVIH5ZK6GB4YKFCE                                                3.0      \n",
       "VJOP5EAKG23YU2FVA55MQONZMQ                                                1.0      \n",
       "KF3Y72AF5XZYONZWSOXCX65HL4                                                1.0      \n",
       "NREZ4PO6FMQXFBH6WVGQU5E2BI                                                1.0      \n",
       "VKPF7B6LTUREAVH4NJWSM7TWH4                                                2.0      \n",
       "\n",
       "                            attitudes_agree_2c777820_6f1a_11e8_9e4d_d2bb2aee761e  \\\n",
       "yougov_id                                                                          \n",
       "FRGTTOSDUTEVIH5ZK6GB4YKFCE                                                3.0      \n",
       "VJOP5EAKG23YU2FVA55MQONZMQ                                                3.0      \n",
       "KF3Y72AF5XZYONZWSOXCX65HL4                                                2.0      \n",
       "NREZ4PO6FMQXFBH6WVGQU5E2BI                                                2.0      \n",
       "VKPF7B6LTUREAVH4NJWSM7TWH4                                                3.0      \n",
       "\n",
       "                            attitudes_agree_a6d25d40_6266_11e7_838c_0ec8b917c582  \n",
       "yougov_id                                                                         \n",
       "FRGTTOSDUTEVIH5ZK6GB4YKFCE                                                1.0     \n",
       "VJOP5EAKG23YU2FVA55MQONZMQ                                                1.0     \n",
       "KF3Y72AF5XZYONZWSOXCX65HL4                                                0.0     \n",
       "NREZ4PO6FMQXFBH6WVGQU5E2BI                                                1.0     \n",
       "VKPF7B6LTUREAVH4NJWSM7TWH4                                                0.0     \n",
       "\n",
       "[5 rows x 455 columns]"
      ]
     },
     "execution_count": 15,
     "metadata": {},
     "output_type": "execute_result"
    }
   ],
   "source": [
    "#Prediction dataset doesn't have KPI\n",
    "import pandas as pd\n",
    "df_prediction  = demographic_df.merge(psychographic_df, how = 'inner', left_on = 'yougov_id', right_on = 'yougov_id')\n",
    "df_prediction.head()"
   ]
  },
  {
   "cell_type": "markdown",
   "id": "19836aa0-b746-4da9-9fa9-396274a0d69a",
   "metadata": {},
   "source": [
    "# Training the Model #"
   ]
  },
  {
   "cell_type": "markdown",
   "id": "5a28a186-448f-4794-903c-516a647bb797",
   "metadata": {},
   "source": [
    "## Loading Packages ##"
   ]
  },
  {
   "cell_type": "code",
   "execution_count": 16,
   "id": "6d73d0df-31f6-435c-925c-04152123f280",
   "metadata": {},
   "outputs": [],
   "source": [
    "#@title Loading Packages \n",
    "#Data Manipulation\n",
    "import numpy as np\n",
    "import pandas as pd\n",
    "#import pandasql as ps #allows you to run SQL on dataframe objects\n",
    "#import math\n",
    "\n",
    "#standard packages\n",
    "import io, os, sys, types, time, datetime, math, random, requests, subprocess, tempfile\n",
    "\n",
    "\n",
    "# Visualization \n",
    "%matplotlib inline\n",
    "\n",
    "import matplotlib.pyplot as plt\n",
    "# import missingno\n",
    "import seaborn as sns\n",
    "#from pandas.tools.plotting import scatter_matrix\n",
    "from mpl_toolkits.mplot3d import Axes3D\n",
    "from statsmodels.graphics.gofplots import ProbPlot\n",
    "from pylab import rcParams\n",
    "\n",
    "plt.style.use('seaborn') # pretty matplotlib plots\n",
    "plt.rc('font', size=14)\n",
    "plt.rc('figure', titlesize=18)\n",
    "plt.rc('axes', labelsize=10)\n",
    "plt.rc('axes', titlesize=15)\n",
    "\n",
    "#pd.options.display.float_format = '{:,.0f}'.format \n",
    "pd.options.display.float_format = '{:,.3f}'.format #upto 3 decimal points\n",
    "\n",
    "# Feature Selection and Encoding\n",
    "from sklearn.feature_selection import RFE, RFECV\n",
    "from sklearn.svm import SVR\n",
    "from sklearn.decomposition import PCA\n",
    "from sklearn.preprocessing import OneHotEncoder, LabelEncoder, label_binarize\n",
    "from sklearn.feature_selection import SelectKBest\n",
    "from sklearn.feature_selection import chi2\n",
    "from sklearn.preprocessing import StandardScaler\n",
    "\n",
    "\n",
    "# Machine learning & Stats\n",
    "import sklearn.ensemble as ske\n",
    "from sklearn import datasets, model_selection, tree, preprocessing, metrics, linear_model\n",
    "from sklearn.model_selection import train_test_split\n",
    "from sklearn.svm import LinearSVC\n",
    "from sklearn.ensemble import RandomForestClassifier, GradientBoostingClassifier\n",
    "from sklearn.neighbors import KNeighborsClassifier\n",
    "from sklearn.naive_bayes import GaussianNB\n",
    "from sklearn.linear_model import LinearRegression, LogisticRegression, Ridge, Lasso, SGDClassifier\n",
    "from sklearn.tree import DecisionTreeClassifier\n",
    "#import tensorflow as tf\n",
    "\n",
    "import statsmodels.api as sm\n",
    "import statsmodels.formula.api as smf\n",
    "import scipy.stats as stats\n",
    "from scipy.stats import randint as sp_randint\n",
    "from sklearn.model_selection import GridSearchCV\n",
    "from sklearn.model_selection import RandomizedSearchCV\n",
    "import sklearn\n",
    "from sklearn.linear_model import LinearRegression\n",
    "from sklearn.preprocessing import scale\n",
    "from collections import Counter\n",
    "from sklearn import datasets, linear_model\n",
    "from pandas.plotting import autocorrelation_plot\n",
    "\n",
    "# Metrics\n",
    "from sklearn.metrics import precision_recall_fscore_support, roc_curve, auc\n",
    "from sklearn.metrics import mean_squared_error, r2_score\n",
    "\n",
    "import warnings\n",
    "warnings.filterwarnings(\"ignore\")\n",
    "\n",
    "#run the code in anaconda prompt\n",
    "#conda install pandas-gbq -c conda-forge\n",
    "\n",
    "import pandas as pd\n",
    "from pandas.io import gbq"
   ]
  },
  {
   "cell_type": "markdown",
   "id": "1a154e2e-fc49-43b0-b34c-193f47230f86",
   "metadata": {},
   "source": [
    "## Data Pre-processing for Training ##\n",
    "\n",
    "*Remove a few features and then one-hot encoding is done*"
   ]
  },
  {
   "cell_type": "code",
   "execution_count": 17,
   "id": "2de9d136-1c19-4e35-8f14-b6997adceb75",
   "metadata": {},
   "outputs": [
    {
     "data": {
      "text/plain": [
       "(89739, 2347)"
      ]
     },
     "execution_count": 17,
     "metadata": {},
     "output_type": "execute_result"
    }
   ],
   "source": [
    "#@title Data Pre-processing \n",
    "# df_training_copy = df_training.copy()\n",
    "# df_training_copy.set_index('yougov_id', inplace=True)\n",
    "\n",
    "#Variable Set Up\n",
    "# df_training.set_index('yougov_id', inplace=True)\n",
    "y = df_training['KPI']\n",
    "X = df_training.drop(['KPI'], axis = 1)\n",
    "X.shape"
   ]
  },
  {
   "cell_type": "markdown",
   "id": "7317df78-1380-477b-a95a-6b22e3cdffc9",
   "metadata": {},
   "source": [
    "## Distribution of Response ##"
   ]
  },
  {
   "cell_type": "code",
   "execution_count": 18,
   "id": "9b9029a8-ee44-4745-80b6-ffaba385efc0",
   "metadata": {},
   "outputs": [
    {
     "data": {
      "text/plain": [
       "0   0.851\n",
       "1   0.149\n",
       "Name: KPI, dtype: Float64"
      ]
     },
     "execution_count": 18,
     "metadata": {},
     "output_type": "execute_result"
    }
   ],
   "source": [
    "#@title Distribution of Response\n",
    "df_training.KPI.value_counts(normalize = True)\n",
    "# df_training_copy.KPI.value_counts()"
   ]
  },
  {
   "cell_type": "code",
   "execution_count": 24,
   "id": "a8ca3383-6ebd-4ce9-b0dc-48b0296e19ac",
   "metadata": {},
   "outputs": [],
   "source": [
    "# # #@title Balancing the dataset (Optional)\n",
    "# #from imblearn.over_sampling import SMOTE\n",
    "# from imblearn.over_sampling import SMOTE\n",
    "# sm = SMOTE(random_state = 0, sampling_strategy=0.7)\n",
    "\n",
    "# # Import train_test_split function\n",
    "# from sklearn.model_selection import train_test_split\n",
    "\n",
    "# X_res, y_res = sm.fit_resample(X, y)#"
   ]
  },
  {
   "cell_type": "markdown",
   "id": "b698d775-a986-445f-91c1-40f3421eeadb",
   "metadata": {},
   "source": [
    "## Data Partition in Training & Test (70-30) and Balance the Dataset ##"
   ]
  },
  {
   "cell_type": "code",
   "execution_count": 187,
   "id": "dc4f3cf4-af49-4337-82a0-11939521ac7b",
   "metadata": {},
   "outputs": [],
   "source": [
    "# Import train_test_split function\n",
    "from sklearn.model_selection import train_test_split\n",
    "from imblearn.over_sampling import SMOTE\n",
    "\n",
    "y=y.astype('int')\n",
    "\n",
    "# Split dataset into training set and test set\n",
    "X_train, X_test, y_train, y_test = train_test_split(X, y, test_size=0.3, random_state=0, stratify=y) # 70% training and 30% test\n",
    "\n",
    "# Calculate the percentage of '1' in the target variable\n",
    "percentage_of_1 = y_train.value_counts(normalize=True).get(1, 0)\n",
    "\n",
    "# Apply SMOTE if the percentage of '1' is less than 40%\n",
    "if percentage_of_1 < 0.4:\n",
    "    sm = SMOTE(random_state=0, sampling_strategy='auto')\n",
    "    X_train_res, y_train_res = sm.fit_resample(X_train, y_train)\n",
    "else:\n",
    "    X_train_res, y_train_res = X_train, y_train"
   ]
  },
  {
   "cell_type": "code",
   "execution_count": 188,
   "id": "09ac659d-96b4-4ce5-a784-0a4e1334577b",
   "metadata": {},
   "outputs": [
    {
     "data": {
      "text/plain": [
       "KPI\n",
       "0     0.500\n",
       "1     0.500\n",
       "dtype: float64"
      ]
     },
     "execution_count": 188,
     "metadata": {},
     "output_type": "execute_result"
    }
   ],
   "source": [
    "pd.DataFrame(y_train_res).value_counts(normalize=True)"
   ]
  },
  {
   "cell_type": "markdown",
   "id": "10a828cc-5f90-4e83-9042-a5f138a37617",
   "metadata": {},
   "source": [
    "## Testing a Voting Classifier ##"
   ]
  },
  {
   "cell_type": "code",
   "execution_count": 26,
   "id": "b0ed9739-17d6-4a37-9928-09a2d4973b12",
   "metadata": {},
   "outputs": [],
   "source": [
    "# #@title Testing a Voting Classifier\n",
    "# start_time = datetime.now()\n",
    "\n",
    "# from sklearn.ensemble import RandomForestClassifier\n",
    "# from sklearn.ensemble import VotingClassifier\n",
    "# from sklearn.linear_model import LogisticRegression\n",
    "# from sklearn.svm import SVC\n",
    "\n",
    "# log_clf = LogisticRegression(random_state = 0)\n",
    "# rnd_clf = RandomForestClassifier(random_state = 0)\n",
    "# svm_clf = SVC(random_state = 0)\n",
    "\n",
    "# voting_clf = VotingClassifier( \n",
    "#     estimators = [('lr', log_clf), ('rf', rnd_clf), ('svc', svm_clf)],\n",
    "#     voting = 'hard')\n",
    "# voting_clf.fit(X_train, y_train)\n",
    "\n",
    "# end_time = datetime.now()\n",
    "# print('Duration: {}'.format(end_time - start_time))"
   ]
  },
  {
   "cell_type": "markdown",
   "id": "0fc60b91-332e-48af-8141-76e0b1ff97c1",
   "metadata": {},
   "source": [
    "## Check Accuracy of Voting Classifier ##"
   ]
  },
  {
   "cell_type": "code",
   "execution_count": 27,
   "id": "db09f1a7-14dc-495f-bfb1-addf575a6ace",
   "metadata": {},
   "outputs": [],
   "source": [
    "# #@title Check the accuracy of the voting classifier\n",
    "# from datetime import datetime\n",
    "# start_time = datetime.now()\n",
    "# from sklearn.metrics import accuracy_score \n",
    "\n",
    "# for clf in (log_clf, rnd_clf, svm_clf, voting_clf):\n",
    "#     clf.fit(X_train, y_train)\n",
    "#     y_pred = clf.predict(X_test)\n",
    "#     #print(clf._class_,_name_,accuracy_score(y_test, y_pred))\n",
    "#     print(accuracy_score(y_test, y_pred))\n",
    "\n",
    "# end_time = datetime.now()\n",
    "# print('Duration: {}'.format(end_time - start_time))"
   ]
  },
  {
   "cell_type": "markdown",
   "id": "f824024f-340f-400c-9ed0-c5d0d47d308d",
   "metadata": {},
   "source": [
    "## Feature Selection - RFECV & by Feature Importance Score from RF ##\n",
    "\n",
    "**Very Important Step** This step shows us the Optimal number of ***econded** features adequate for the model. But it is important that we include the Original feature and not restrict it to the encoded feature alone. So, for example if RFECV shows encoded feature pdl_profile_socialgrade_cie_C2 is a good predictor, we have include the original feature pdl_profile_socialgrade_cie in training the model. This is a piece of literature that should not be ignored.*\n",
    "\n",
    "1. *Run a Basic Model*\n",
    "2. *Use feature importance to cut down to 250 encoded features*\n",
    "3. *Run RFECV and select optimal number of features on the 250 features selected above*\n",
    "4. *Find original/parent feature & run the final model*"
   ]
  },
  {
   "cell_type": "markdown",
   "id": "249f8869-7da4-4317-9618-c05a209503e5",
   "metadata": {},
   "source": [
    "### 1 Run a Basic XGBOOST Model ###\n",
    "\n",
    "*XGBOOST Cannot handle special characters in feature name. Random Forest can handle it.*"
   ]
  },
  {
   "cell_type": "code",
   "execution_count": 189,
   "id": "f925bc27-618a-4185-b793-62d4a56e1ac5",
   "metadata": {},
   "outputs": [],
   "source": [
    "#Execute this block if you are running an XGBOOST Model\n",
    "encoded_cols = X_train.columns\n",
    "import re\n",
    "regex = re.compile(r\"\\[|\\]|<\", re.IGNORECASE)\n",
    "X_train_res.columns = [regex.sub(\"_\", col) if any(x in str(col) for x in set(('[', ']', '<'))) else col for col in X_train.columns.values]\n",
    "X_test.columns  = [regex.sub(\"_\", col) if any(x in str(col) for x in set(('[', ']', '<'))) else col for col in X_test.columns.values]"
   ]
  },
  {
   "cell_type": "code",
   "execution_count": 29,
   "id": "def40b50-7ce7-4b2c-bf3e-d6b4a02c6a12",
   "metadata": {},
   "outputs": [],
   "source": [
    "# pip install xgboost"
   ]
  },
  {
   "cell_type": "code",
   "execution_count": 190,
   "id": "57b282ad-826b-496c-8df0-2816c55ab5ba",
   "metadata": {},
   "outputs": [
    {
     "name": "stdout",
     "output_type": "stream",
     "text": [
      "[0.   0.05 0.24 ... 0.5  0.25 0.15]\n"
     ]
    }
   ],
   "source": [
    "#@title Run a Random Forest Model\n",
    "#Import Random Forest Model\n",
    "from sklearn.ensemble import RandomForestClassifier\n",
    "import xgboost as xgb\n",
    "from sklearn.metrics import mean_absolute_error\n",
    "from xgboost import XGBClassifier\n",
    "\n",
    "\n",
    "#Create a Gaussian Classifier\n",
    "# clf=RandomForestClassifier(n_estimators=500, criterion = \"entropy\", oob_score = True, random_state=0, n_jobs = -1)\n",
    "clf=XGBClassifier(n_jobs=80, random_state=80, n_estimators=500, objective=\"binary:logistic\", eval_metric=\"auc\")#,max_delta_step=2\n",
    "#n_jobs=-1 uses all the cores. Notify the team members if required to run this. \n",
    "\n",
    "#Train the model using the training sets y_pred=clf.predict(X_test)\n",
    "clf.fit(X_train_res,y_train_res)\n",
    "\n",
    "y_pred_train = clf.predict(X_train_res)\n",
    "y_pred=clf.predict(X_test)\n",
    "prob_rf = clf.predict_proba(X_test)[:,1]\n",
    "#y_score = classifier.fit(X_train, y_train).decision_function(X_test)\n",
    "print(prob_rf)"
   ]
  },
  {
   "cell_type": "code",
   "execution_count": 191,
   "id": "d30f535a-57cd-4d1e-b04f-ece7b6e3d8c4",
   "metadata": {},
   "outputs": [
    {
     "data": {
      "text/plain": [
       "(26922,)"
      ]
     },
     "execution_count": 191,
     "metadata": {},
     "output_type": "execute_result"
    }
   ],
   "source": [
    "prob_rf.shape"
   ]
  },
  {
   "cell_type": "code",
   "execution_count": 192,
   "id": "3acdb74d-3e21-45cf-8215-3dd0cec9b3f4",
   "metadata": {},
   "outputs": [
    {
     "data": {
      "text/plain": [
       "2868.8362"
      ]
     },
     "execution_count": 192,
     "metadata": {},
     "output_type": "execute_result"
    }
   ],
   "source": [
    "prob_rf.sum()"
   ]
  },
  {
   "cell_type": "markdown",
   "id": "ce8ffc1a-19d6-41d6-b718-569cca10fc39",
   "metadata": {},
   "source": [
    "### 2 Use feature importance to cut down to 100 variables ###"
   ]
  },
  {
   "cell_type": "code",
   "execution_count": 193,
   "id": "19d3fd39-44cc-4e81-8823-206ed95656d5",
   "metadata": {},
   "outputs": [],
   "source": [
    "X_train_res.columns = encoded_cols\n",
    "X_test.columns = encoded_cols"
   ]
  },
  {
   "cell_type": "code",
   "execution_count": 194,
   "id": "c86071f1-cc84-408e-8d0d-24f8fa606ef2",
   "metadata": {},
   "outputs": [
    {
     "data": {
      "text/html": [
       "<div>\n",
       "<style scoped>\n",
       "    .dataframe tbody tr th:only-of-type {\n",
       "        vertical-align: middle;\n",
       "    }\n",
       "\n",
       "    .dataframe tbody tr th {\n",
       "        vertical-align: top;\n",
       "    }\n",
       "\n",
       "    .dataframe thead th {\n",
       "        text-align: right;\n",
       "    }\n",
       "</style>\n",
       "<table border=\"1\" class=\"dataframe\">\n",
       "  <thead>\n",
       "    <tr style=\"text-align: right;\">\n",
       "      <th></th>\n",
       "      <th>features</th>\n",
       "      <th>importance_score</th>\n",
       "      <th>importance_score_1000</th>\n",
       "      <th>rank</th>\n",
       "    </tr>\n",
       "  </thead>\n",
       "  <tbody>\n",
       "    <tr>\n",
       "      <th>490</th>\n",
       "      <td>pdl_household_type_UK_1_1</td>\n",
       "      <td>0.043</td>\n",
       "      <td>42.571</td>\n",
       "      <td>1.000</td>\n",
       "    </tr>\n",
       "    <tr>\n",
       "      <th>517</th>\n",
       "      <td>pdl_grandparent_child_ages_97_0</td>\n",
       "      <td>0.036</td>\n",
       "      <td>35.940</td>\n",
       "      <td>2.000</td>\n",
       "    </tr>\n",
       "    <tr>\n",
       "      <th>110</th>\n",
       "      <td>pdl_profile_gender_1</td>\n",
       "      <td>0.033</td>\n",
       "      <td>33.407</td>\n",
       "      <td>3.000</td>\n",
       "    </tr>\n",
       "    <tr>\n",
       "      <th>489</th>\n",
       "      <td>pdl_household_type_UK_1_0</td>\n",
       "      <td>0.028</td>\n",
       "      <td>28.311</td>\n",
       "      <td>4.000</td>\n",
       "    </tr>\n",
       "    <tr>\n",
       "      <th>482</th>\n",
       "      <td>pdl_pets_99_1</td>\n",
       "      <td>0.024</td>\n",
       "      <td>23.797</td>\n",
       "      <td>5.000</td>\n",
       "    </tr>\n",
       "    <tr>\n",
       "      <th>...</th>\n",
       "      <td>...</td>\n",
       "      <td>...</td>\n",
       "      <td>...</td>\n",
       "      <td>...</td>\n",
       "    </tr>\n",
       "    <tr>\n",
       "      <th>397</th>\n",
       "      <td>pdl_profile_household_children_2</td>\n",
       "      <td>0.000</td>\n",
       "      <td>0.457</td>\n",
       "      <td>246.000</td>\n",
       "    </tr>\n",
       "    <tr>\n",
       "      <th>1104</th>\n",
       "      <td>pdl_cie_manage_3</td>\n",
       "      <td>0.000</td>\n",
       "      <td>0.456</td>\n",
       "      <td>247.000</td>\n",
       "    </tr>\n",
       "    <tr>\n",
       "      <th>921</th>\n",
       "      <td>pdl_posedu_24</td>\n",
       "      <td>0.000</td>\n",
       "      <td>0.455</td>\n",
       "      <td>248.000</td>\n",
       "    </tr>\n",
       "    <tr>\n",
       "      <th>727</th>\n",
       "      <td>pdl_employ_jobtitle_2020_299</td>\n",
       "      <td>0.000</td>\n",
       "      <td>0.454</td>\n",
       "      <td>249.000</td>\n",
       "    </tr>\n",
       "    <tr>\n",
       "      <th>2216</th>\n",
       "      <td>attitudes_agree_6225a9e0_c647_11e3_841f_005056...</td>\n",
       "      <td>0.000</td>\n",
       "      <td>0.453</td>\n",
       "      <td>250.000</td>\n",
       "    </tr>\n",
       "  </tbody>\n",
       "</table>\n",
       "<p>250 rows × 4 columns</p>\n",
       "</div>"
      ],
      "text/plain": [
       "                                               features  importance_score  \\\n",
       "490                           pdl_household_type_UK_1_1             0.043   \n",
       "517                     pdl_grandparent_child_ages_97_0             0.036   \n",
       "110                                pdl_profile_gender_1             0.033   \n",
       "489                           pdl_household_type_UK_1_0             0.028   \n",
       "482                                       pdl_pets_99_1             0.024   \n",
       "...                                                 ...               ...   \n",
       "397                    pdl_profile_household_children_2             0.000   \n",
       "1104                                   pdl_cie_manage_3             0.000   \n",
       "921                                       pdl_posedu_24             0.000   \n",
       "727                        pdl_employ_jobtitle_2020_299             0.000   \n",
       "2216  attitudes_agree_6225a9e0_c647_11e3_841f_005056...             0.000   \n",
       "\n",
       "      importance_score_1000    rank  \n",
       "490                  42.571   1.000  \n",
       "517                  35.940   2.000  \n",
       "110                  33.407   3.000  \n",
       "489                  28.311   4.000  \n",
       "482                  23.797   5.000  \n",
       "...                     ...     ...  \n",
       "397                   0.457 246.000  \n",
       "1104                  0.456 247.000  \n",
       "921                   0.455 248.000  \n",
       "727                   0.454 249.000  \n",
       "2216                  0.453 250.000  \n",
       "\n",
       "[250 rows x 4 columns]"
      ]
     },
     "execution_count": 194,
     "metadata": {},
     "output_type": "execute_result"
    }
   ],
   "source": [
    "#@title Feature Selection\n",
    "importance = clf.feature_importances_\n",
    "df_imp = pd.DataFrame(importance)\n",
    "df_features = pd.DataFrame(X_train.columns.T)\n",
    "df_features.columns = ['features']\n",
    "df_imp.columns = ['importance_score']\n",
    "df_feature_importance = pd.merge(df_features, df_imp, how = 'inner', left_index=True, right_index=True)\n",
    "df_feature_importance['importance_score_1000'] = df_feature_importance.importance_score*1000\n",
    "df_feature_importance['rank'] = df_feature_importance['importance_score_1000'].rank(ascending=False)\n",
    "df_selected_feature = df_feature_importance.loc[(df_feature_importance['rank'] <= 250)]\n",
    "df_remove_feature = df_feature_importance.loc[(df_feature_importance['rank'] > 250)]\n",
    "remove_feature = list(df_remove_feature.features.unique())\n",
    "df_selected_feature.sort_values('rank')"
   ]
  },
  {
   "cell_type": "markdown",
   "id": "9a744648-dec1-4dbb-8b5e-90e7c8e297d6",
   "metadata": {},
   "source": [
    "### RFECV on Selected Features ###"
   ]
  },
  {
   "cell_type": "code",
   "execution_count": 35,
   "id": "656f364f-18dc-4314-9c71-e84eeeec0d55",
   "metadata": {},
   "outputs": [],
   "source": [
    "# X = X.drop(remove_feature , axis=1)\n",
    "\n",
    "# #@title Data Partition (70-30 split)\n",
    "# # Import train_test_split function\n",
    "# from sklearn.model_selection import train_test_split\n",
    "\n",
    "# # Split dataset into training set and test set\n",
    "# # X_train, X_test, y_train, y_test = train_test_split(X_res, y_res, test_size=0.3, random_state = 0) # 70% training and 30% test\n",
    "# X_train, X_test, y_train, y_test = train_test_split(X, y, test_size=0.3, random_state = 0) # 70% training and 30% test"
   ]
  },
  {
   "cell_type": "code",
   "execution_count": 36,
   "id": "ad1dcbd8-41aa-4bc9-9592-b7a7c65d558b",
   "metadata": {},
   "outputs": [],
   "source": [
    "# #@title RFECV for Feature Selection\n",
    "# import xgboost as xgb\n",
    "# from sklearn.metrics import mean_absolute_error\n",
    "# from xgboost import XGBClassifier\n",
    "# from sklearn.feature_selection import RFECV\n",
    "\n",
    "# names = X.columns\n",
    "# clf_rfecv = XGBClassifier(n_jobs=-1, random_state=42, n_estimators=100, objective=\"binary:logistic\", eval_metric=\"auc\")\n",
    "# # clf_rfecv = RandomForestClassifier(n_estimators=100, criterion = \"entropy\", oob_score = True, random_state=0, n_jobs = -1)\n",
    "# selector = RFECV(clf_rfecv, step= 1, n_jobs=-1) \n",
    "# selector = selector.fit(X_train, y_train)\n",
    "# selector.support_ \n",
    "# selector.ranking_\n",
    "\n",
    "# # print(\"Feature Ranking: %s\" % selector.ranking_)\n",
    "# print(\"Optimal number of features : %d\" % selector.n_features_)\n",
    "\n",
    "# print (\"Features sorted by their rank:\")\n",
    "# print (sorted(zip(map(lambda x: round(x, 4), selector.ranking_), names)))\n",
    "\n",
    "# # Plot number of features VS. cross-validation scores\n",
    "# plt.style.use('seaborn-whitegrid')\n",
    "# plt.figure(figsize=(20,5)) \n",
    "# plt.xlabel(\"Number of features selected\")\n",
    "# plt.ylabel(\"Cross validation score (nb of correct classifications)\")\n",
    "# plt.plot(range(1, len(selector.grid_scores_) + 1), selector.grid_scores_);\n",
    "\n",
    "# # Feature space could be subsetted like so:\n",
    "# #X = X[X.columns[np.insert(selector.support_, 0, True)]]"
   ]
  },
  {
   "cell_type": "code",
   "execution_count": 37,
   "id": "4977ebda-60b7-4053-a5b1-2744127b16c1",
   "metadata": {},
   "outputs": [],
   "source": [
    "# rfecv_selected_features = pd.DataFrame(sorted(zip(map(lambda x: round(x, 4), selector.ranking_), names)), columns = ['rank','features'])"
   ]
  },
  {
   "cell_type": "markdown",
   "id": "f5c49697-323f-4b5d-a018-f08bfdcc6225",
   "metadata": {},
   "source": [
    "## Build a Confusion Matrix ##"
   ]
  },
  {
   "cell_type": "code",
   "execution_count": 195,
   "id": "16273f84-4671-4400-a2ae-0a94935e60d8",
   "metadata": {},
   "outputs": [
    {
     "name": "stdout",
     "output_type": "stream",
     "text": [
      "Confusion matrix, without normalization\n",
      "[[22632   289]\n",
      " [ 3914    87]]\n",
      "Normalized confusion matrix\n",
      "[[0.99 0.01]\n",
      " [0.98 0.02]]\n"
     ]
    },
    {
     "data": {
      "image/png": "[encoded data removed]",
      "text/plain": [
       "<Figure size 800x550 with 2 Axes>"
      ]
     },
     "metadata": {},
     "output_type": "display_data"
    },
    {
     "data": {
      "image/png": "[encoded data removed]",
      "text/plain": [
       "<Figure size 800x550 with 2 Axes>"
      ]
     },
     "metadata": {},
     "output_type": "display_data"
    }
   ],
   "source": [
    "#@title Build a Confusion Matrix\n",
    "from sklearn.metrics import confusion_matrix\n",
    "from sklearn.utils.multiclass import unique_labels\n",
    "\n",
    "#classes  = abc1_df.abc1.unique()\n",
    "def plot_confusion_matrix(y_test, y_pred, #classes,\n",
    "                          normalize=False,\n",
    "                          title=None,\n",
    "                          cmap=plt.cm.Blues):\n",
    "    \"\"\"\n",
    "    This function prints and plots the confusion matrix.\n",
    "    Normalization can be applied by setting `normalize=True`.\n",
    "    \"\"\"\n",
    "    if not title:\n",
    "        if normalize:\n",
    "            title = 'Normalized confusion matrix'\n",
    "        else:\n",
    "            title = 'Confusion matrix, without normalization'\n",
    "\n",
    "    # Compute confusion matrix\n",
    "    cm = confusion_matrix(y_test, y_pred)\n",
    "    # Only use the labels that appear in the data\n",
    "    #classes = classes[unique_labels(y_test, y_pred)]\n",
    "    if normalize:\n",
    "        cm = cm.astype('float') / cm.sum(axis=1)[:, np.newaxis]\n",
    "        print(\"Normalized confusion matrix\")\n",
    "    else:\n",
    "        print('Confusion matrix, without normalization')\n",
    "\n",
    "    print(cm)\n",
    "\n",
    "    fig, ax = plt.subplots()\n",
    "    im = ax.imshow(cm, interpolation='nearest', cmap=cmap)\n",
    "    ax.figure.colorbar(im, ax=ax)\n",
    "    # We want to show all ticks...\n",
    "    ax.set(xticks=np.arange(cm.shape[1]),\n",
    "           yticks=np.arange(cm.shape[0]),\n",
    "           # ... and label them with the respective list entries\n",
    "           #xticklabels=classes, yticklabels=classes,\n",
    "           title=title,\n",
    "           ylabel='True label',\n",
    "           xlabel='Predicted label')\n",
    "\n",
    "    # Rotate the tick labels and set their alignment.\n",
    "    plt.setp(ax.get_xticklabels(), rotation=45, ha=\"right\",\n",
    "             rotation_mode=\"anchor\")\n",
    "\n",
    "    # Loop over data dimensions and create text annotations.\n",
    "    fmt = '.2f' if normalize else 'd'\n",
    "    thresh = cm.max() / 2.\n",
    "    for i in range(cm.shape[0]):\n",
    "        for j in range(cm.shape[1]):\n",
    "            ax.text(j, i, format(cm[i, j], fmt),\n",
    "                    ha=\"center\", va=\"center\",\n",
    "                    color=\"white\" if cm[i, j] > thresh else \"black\")\n",
    "    fig.tight_layout()\n",
    "    return ax\n",
    "\n",
    "\n",
    "np.set_printoptions(precision=2)\n",
    "\n",
    "# Plot non-normalized confusion matrix\n",
    "plot_confusion_matrix(y_test, y_pred, #classes,\n",
    "                      title='Confusion matrix, without normalization')\n",
    "\n",
    "# Plot normalized confusion matrix\n",
    "plot_confusion_matrix(y_test, y_pred, normalize=True,\n",
    "                      title='Normalized confusion matrix')\n",
    "\n",
    "plt.show()"
   ]
  },
  {
   "cell_type": "markdown",
   "id": "bb165472-4890-465e-a7b9-77719a5161a8",
   "metadata": {},
   "source": [
    "## Overfitting Check ##"
   ]
  },
  {
   "cell_type": "markdown",
   "id": "943a03dc-0ec6-4d5b-bf58-c8605229bab0",
   "metadata": {},
   "source": [
    "### Accuracy on Training Dataset ###"
   ]
  },
  {
   "cell_type": "code",
   "execution_count": 196,
   "id": "3740405a-ba36-4e65-bac1-e13319acbef0",
   "metadata": {},
   "outputs": [
    {
     "name": "stdout",
     "output_type": "stream",
     "text": [
      "              precision    recall  f1-score   support\n",
      "\n",
      "           0       0.98      1.00      0.99     53480\n",
      "           1       1.00      0.98      0.99     53480\n",
      "\n",
      "    accuracy                           0.99    106960\n",
      "   macro avg       0.99      0.99      0.99    106960\n",
      "weighted avg       0.99      0.99      0.99    106960\n",
      "\n"
     ]
    }
   ],
   "source": [
    "print(metrics.classification_report(y_train_res, y_pred_train))"
   ]
  },
  {
   "cell_type": "markdown",
   "id": "a6162f11-0ac7-4c64-8f47-4b87bc3a8c69",
   "metadata": {},
   "source": [
    "### Accuracy on Test Dataset ###"
   ]
  },
  {
   "cell_type": "code",
   "execution_count": 197,
   "id": "49caf63b-2ddc-4096-a694-56a0166a1069",
   "metadata": {},
   "outputs": [
    {
     "name": "stdout",
     "output_type": "stream",
     "text": [
      "              precision    recall  f1-score   support\n",
      "\n",
      "           0       0.85      0.99      0.92     22921\n",
      "           1       0.23      0.02      0.04      4001\n",
      "\n",
      "    accuracy                           0.84     26922\n",
      "   macro avg       0.54      0.50      0.48     26922\n",
      "weighted avg       0.76      0.84      0.78     26922\n",
      "\n"
     ]
    }
   ],
   "source": [
    "print(metrics.classification_report(y_test, y_pred))"
   ]
  },
  {
   "cell_type": "markdown",
   "id": "dca74068-f6f5-43c3-acf1-9d5344e01bb6",
   "metadata": {},
   "source": [
    "### Choose optimal encoded features ###"
   ]
  },
  {
   "cell_type": "code",
   "execution_count": 41,
   "id": "e392498a-99f0-41bf-810c-37e186e113bc",
   "metadata": {},
   "outputs": [],
   "source": [
    "# #Execute this if RFECV is run\n",
    "# df_selected_feature = df_feature_importance.loc[(df_feature_importance['rank'] <= selector.n_features_)]\n",
    "# df_remove_feature = df_feature_importance.loc[(df_feature_importance['rank'] > selector.n_features_)]\n",
    "# remove_feature = list(df_remove_feature.features.unique())"
   ]
  },
  {
   "cell_type": "markdown",
   "id": "986103c5-6647-48ac-9393-44b433ead9c2",
   "metadata": {},
   "source": [
    "### Find the Original features of the encoded optimal features ###"
   ]
  },
  {
   "cell_type": "code",
   "execution_count": 198,
   "id": "930764dd-d87e-4c9c-b3ed-928def8a724d",
   "metadata": {},
   "outputs": [
    {
     "data": {
      "text/html": [
       "<div>\n",
       "<style scoped>\n",
       "    .dataframe tbody tr th:only-of-type {\n",
       "        vertical-align: middle;\n",
       "    }\n",
       "\n",
       "    .dataframe tbody tr th {\n",
       "        vertical-align: top;\n",
       "    }\n",
       "\n",
       "    .dataframe thead th {\n",
       "        text-align: right;\n",
       "    }\n",
       "</style>\n",
       "<table border=\"1\" class=\"dataframe\">\n",
       "  <thead>\n",
       "    <tr style=\"text-align: right;\">\n",
       "      <th></th>\n",
       "      <th>original_features</th>\n",
       "    </tr>\n",
       "  </thead>\n",
       "  <tbody>\n",
       "    <tr>\n",
       "      <th>0</th>\n",
       "      <td>weights</td>\n",
       "    </tr>\n",
       "    <tr>\n",
       "      <th>1</th>\n",
       "      <td>pdlc_profile_govregldn</td>\n",
       "    </tr>\n",
       "    <tr>\n",
       "      <th>2</th>\n",
       "      <td>pdl_profile_socialgrade_cie</td>\n",
       "    </tr>\n",
       "    <tr>\n",
       "      <th>3</th>\n",
       "      <td>pdl_profile_work_type</td>\n",
       "    </tr>\n",
       "    <tr>\n",
       "      <th>4</th>\n",
       "      <td>pdlc_age</td>\n",
       "    </tr>\n",
       "  </tbody>\n",
       "</table>\n",
       "</div>"
      ],
      "text/plain": [
       "             original_features\n",
       "0                      weights\n",
       "1       pdlc_profile_govregldn\n",
       "2  pdl_profile_socialgrade_cie\n",
       "3        pdl_profile_work_type\n",
       "4                     pdlc_age"
      ]
     },
     "execution_count": 198,
     "metadata": {},
     "output_type": "execute_result"
    }
   ],
   "source": [
    "parent_features = pd.DataFrame(df_original.columns)\n",
    "parent_features.columns = ['original_features']\n",
    "parent_features.head()"
   ]
  },
  {
   "cell_type": "code",
   "execution_count": 43,
   "id": "b0ac623d-9760-4f3e-944a-76878029678a",
   "metadata": {},
   "outputs": [],
   "source": [
    "# # Write data to excel\n",
    "# df_selected_feature.to_excel('./Sourav/data/df_selected_feature.xlsx')\n",
    "# parent_features.to_excel('./Sourav/data/parent_feature.xlsx')"
   ]
  },
  {
   "cell_type": "code",
   "execution_count": 199,
   "id": "644ec856-1110-4419-a863-a84555d8c585",
   "metadata": {},
   "outputs": [
    {
     "name": "stdout",
     "output_type": "stream",
     "text": [
      "(250, 4)\n",
      "(456, 1)\n"
     ]
    }
   ],
   "source": [
    "print(df_selected_feature.shape)\n",
    "print(parent_features.shape)"
   ]
  },
  {
   "cell_type": "code",
   "execution_count": 200,
   "id": "ec13b8b6-3b30-4823-849f-574c0287d095",
   "metadata": {},
   "outputs": [
    {
     "data": {
      "text/plain": [
       "['attitudes_agree_618a4fd0_99ee_11e7_9f92_d298beabf694',\n",
       " 'pdl_employer_type_private_non_self',\n",
       " 'attitudes_agree_83202325_0cdc_11e8_a9fb_72f77b492c2d',\n",
       " 'attitudes_agree_8f34abf0_b7ef_11e7_b4a9_82b77015c6a6',\n",
       " 'attitudes_agree_8e1ac2b5_0a19_11ea_9768_91d26831c94f',\n",
       " 'attitudes_agree_cec10b10_5012_11e6_9bb2_0050569071a4',\n",
       " 'pdl_former_employ',\n",
       " 'attitudes_agree_40de00f5_1307_11e8_8e3b_bea5289e706c',\n",
       " 'attitudes_agree_527067b0_d538_11e3_8434_005056900127',\n",
       " 'pdlc_grandparent_yes_no',\n",
       " 'attitudes_agree_cac3dd50_dfe8_11e7_8728_4e361292ccb6',\n",
       " 'pdl_public_sector_type',\n",
       " 'pdl_profile_gross_personal',\n",
       " 'pdl_cie_drive',\n",
       " 'pdl_management_level',\n",
       " 'pdl_posIT',\n",
       " 'personality_multi_c6585a50_0109_11e4_b75b_005056900044_9',\n",
       " 'pdl_poseng',\n",
       " 'pdl_life_events_next12months_NEW_97',\n",
       " 'issues_scale_b670fbe0_b345_11e3_90f3_005056900127',\n",
       " 'pdl_employ_decisionmaker_UK_98',\n",
       " 'pdl_cie_estab_empnum_other',\n",
       " 'pdl_selfcie_responsible',\n",
       " 'pdl_profile_house_tenure',\n",
       " 'pdl_cie_poshealth',\n",
       " 'attitudes_agree_20089330_d536_11e3_8434_005056900127',\n",
       " 'attitudes_agree_81bd0c05_8351_11e8_af57_eef1712bd4fd',\n",
       " 'pdl_profile_education_level',\n",
       " 'pdl_employ_jobtitle_2020',\n",
       " 'pdl_cie_posother',\n",
       " 'pdl_cost_actions_UK_2',\n",
       " 'pdl_ownhomeval_pro_30d',\n",
       " 'pdl_discretspend_personal_30d',\n",
       " 'pdl_company_turnover',\n",
       " 'pdl_dog_food_type_96',\n",
       " 'pdlc_oldest_child_hh',\n",
       " 'issues_scale_99d7f500_9fb9_11e3_b2fd_005056900127',\n",
       " 'pdl_work_sector_2018',\n",
       " 'attitudes_agree_d7f674e5_d744_11e6_ba08_d64c9bfdb8f8',\n",
       " 'personality_multi_b37f9b30_010b_11e4_b75b_005056900044_15',\n",
       " 'pdl_hhfin',\n",
       " 'attitudes_agree_669a23f0_5012_11e6_9bb2_0050569071a4',\n",
       " 'issues_scale_69174610_97e7_11e4_90cd_005056900127',\n",
       " 'pdl_pets_99',\n",
       " 'pdl_child_age1',\n",
       " 'pdl_cie_logov',\n",
       " 'pdl_qual',\n",
       " 'pdl_work_industry_shortlist',\n",
       " 'pdl_cie_posciv',\n",
       " 'pdl_busact',\n",
       " 'attitudes_agree_6225a9e0_c647_11e3_841f_005056900127',\n",
       " 'pdl_foreign_languages_spoken_97',\n",
       " 'pdl_work_location',\n",
       " 'attitudes_agree_55fca685_1307_11e8_a288_aaf6ce8c0f17',\n",
       " 'pdl_profile_household_children_responsible',\n",
       " 'pdl_address_change_time',\n",
       " 'attitudes_agree_5e84e700_c648_11e3_841f_005056900127',\n",
       " 'pdlc_profile_govregldn',\n",
       " 'pdl_private_sch_reason_99',\n",
       " 'pdl_UK_noofyears',\n",
       " 'personality_multi_b37f9b30_010b_11e4_b75b_005056900044_3',\n",
       " 'pdlc_family_life_cycle',\n",
       " 'pdl_unemployment_status',\n",
       " 'attitudes_agree_bbf39900_dfe8_11e7_98b5_2e15c2d071d9',\n",
       " 'attitudes_agree_7254cd70_8351_11e8_af57_eef1712bd4fd',\n",
       " 'pdl_proqual',\n",
       " 'pdl_dream_career_attributes_UK_2',\n",
       " 'pdl_child_age4',\n",
       " 'pdl_garden_size',\n",
       " 'pdl_ppty_search',\n",
       " 'pdl_discretspend',\n",
       " 'pdl_hhfin_30d',\n",
       " 'issues_scale_6b0ddeb0_b355_11e3_90f3_005056900127',\n",
       " 'pdl_country_of_birth',\n",
       " 'pdl_study_location',\n",
       " 'pdl_cie_manage',\n",
       " 'attitudes_agree_4889c420_c648_11e3_841f_005056900127',\n",
       " 'pdl_price_increase_uk_8',\n",
       " 'pdl_employ_function',\n",
       " 'issues_importance_a38ddea2_6374_11e8_9817_c57874f1553c',\n",
       " 'attitudes_agree_c41c8d90_d537_11e3_8434_005056900127',\n",
       " 'personality_single_b9272ed0_02b0_11e4_ad5c_005056900044',\n",
       " 'pdl_pperty_own_2017_99',\n",
       " 'pdl_discretspend_personal',\n",
       " 'attitudes_agree_47057d30_28e6_11e6_a405_005056900127',\n",
       " 'pdl_posother',\n",
       " 'attitudes_agree_5f9515c5_4129_11e7_93bb_2ab0a50a8b9c',\n",
       " 'pdl_cie_posale',\n",
       " 'pdl_dog_food_dry_brands_96',\n",
       " 'pdl_estab',\n",
       " 'pdl_cie_sector',\n",
       " 'personality_single_306d2e40_2205_11e4_b98b_005056900044',\n",
       " 'pdl_main_home_value_2018',\n",
       " 'attitudes_agree_98b2bb80_8351_11e8_aab6_4a63c49eaabc',\n",
       " 'attitudes_agree_4170cf00_28e6_11e6_a405_005056900127',\n",
       " 'pdl_cie_proqual',\n",
       " 'pdl_unemployment_status_30d',\n",
       " 'pdl_price_increase_uk_6',\n",
       " 'pdl_profile_socialgrade_cie',\n",
       " 'pdl_business_size',\n",
       " 'attitudes_agree_fcd25318_98dc_11e9_98d1_e5198cc2cf2b',\n",
       " 'pdl_manage',\n",
       " 'pdl_drive',\n",
       " 'pdl_pperty_own_2017_2',\n",
       " 'attitudes_agree_80d5d95f_0a19_11ea_8895_29d0e8765aa4',\n",
       " 'pdl_cie_2018',\n",
       " 'pdlc_age',\n",
       " 'pdl_cie_estab',\n",
       " 'pdl_pet_source',\n",
       " 'pdl_grandparent_child_ages_97',\n",
       " 'attitudes_agree_bc9b0d50_fd18_11e7_985e_3ee0df9868ba',\n",
       " 'pdlc_youngest_child_hh',\n",
       " 'attitudes_agree_dab71dd1_dfe8_11e7_aec6_7aba4d0f9861',\n",
       " 'attitudes_agree_89d34413_28e7_11e7_b3e6_d2249ae0b02d',\n",
       " 'attitudes_agree_9c628805_812b_11e8_9f23_8a5145310896',\n",
       " 'pdl_wrkhrs',\n",
       " 'attitudes_agree_4d07cca0_4a26_11e9_bf85_076b0eba5424',\n",
       " 'pdl_cost_actions_UK_1',\n",
       " 'attitudes_agree_45bf2c47_4a26_11e9_a8fe_3b88b0cb720f',\n",
       " 'pdl_hhfin_pro_30d',\n",
       " 'pdl_cie_poseng',\n",
       " 'pdl_profile_work_stat_30d',\n",
       " 'pdl_cie_posIT',\n",
       " 'attitudes_agree_81df2c00_d530_11e3_8434_005056900127',\n",
       " 'attitudes_agree_7b501de5_fd18_11e7_bd24_f6c62b5fed43',\n",
       " 'pdl_child_gender3',\n",
       " 'pdl_age_of_company',\n",
       " 'personality_single_20ed1ec0_2201_11e4_8e93_005056900044',\n",
       " 'pdl_selfcie_job',\n",
       " 'pdl_profile_house_tenure_2018',\n",
       " 'pdl_logov',\n",
       " 'attitudes_agree_8a59c4d0_8427_11e8_a371_328d7eafa39b',\n",
       " 'pdl_private_ed_consider_99',\n",
       " 'pdl_dream_career_attributes_UK_11',\n",
       " 'attitudes_agree_f3ef1622_98dc_11e9_98d1_e5198cc2cf2b',\n",
       " 'issues_scale_56582ef0_b367_11e3_90f3_005056900127',\n",
       " 'attitudes_agree_3aa47cc0_2d1d_11e8_98b2_4e9cc06ee5c1',\n",
       " 'pdl_empstat_cie',\n",
       " 'pdl_jobsec',\n",
       " 'pdl_care_respon_who_UK_99',\n",
       " 'pdl_life_events_last12months_NEW_97',\n",
       " 'pdl_profile_household_children',\n",
       " 'pdl_armserv',\n",
       " 'pdl_sector',\n",
       " 'attitudes_agree_0cef9505_4126_11e7_8278_be36d6dc7ab1',\n",
       " 'attitudes_agree_4747a7d0_45f2_11e7_b714_1e7972501a21',\n",
       " 'pdl_profile_gender',\n",
       " 'personality_multi_c6585a50_0109_11e4_b75b_005056900044_8',\n",
       " 'pdl_price_increase_uk_2',\n",
       " 'attitudes_agree_ef485100_28e3_11e6_a405_005056900127',\n",
       " 'attitudes_agree_6972cc35_1307_11e8_a288_aaf6ce8c0f17',\n",
       " 'pdl_posedu',\n",
       " 'pdl_household_type_UK_1',\n",
       " 'issues_scale_a3356a00_b34c_11e3_90f3_005056900127',\n",
       " 'attitudes_agree_d0993ec6_4a25_11e9_aebe_d95f132cbc95',\n",
       " 'attitudes_agree_93310400_812b_11e8_9f23_8a5145310896',\n",
       " 'pdl_career_inspiration_UK_3',\n",
       " 'pdl_profile_work_type',\n",
       " 'pdl_self_responsible',\n",
       " 'long_tail_4e5a9920_b3f1_11e7_a616_f6f950cff860_4e59d5d0_b3f1_11e7_a616_f6f950cff860',\n",
       " 'issues_importance_69174610_97e7_11e4_90cd_005056900127',\n",
       " 'attitudes_agree_7723e660_0cdc_11e8_8e3b_bea5289e706c']"
      ]
     },
     "execution_count": 200,
     "metadata": {},
     "output_type": "execute_result"
    }
   ],
   "source": [
    "selected_parent_features = list(set(df_selected_feature.features).intersection(parent_features.original_features))\n",
    "df_selected_feature_2 = pd.DataFrame(df_selected_feature.features).copy()\n",
    "df_selected_feature_2 = df_selected_feature_2.query('features not in @selected_parent_features')\n",
    "\n",
    "for col in df_selected_feature_2.features.values:\n",
    "    #if \" \" in col:\n",
    "        # print(col.rpartition(\"_\")[0])\n",
    "    selected_parent_features.append(col.rpartition(\"_\")[0])\n",
    "\n",
    "selected_parent_features= list(set(selected_parent_features))\n",
    "selected_parent_features"
   ]
  },
  {
   "cell_type": "code",
   "execution_count": 201,
   "id": "bd511eb2-f958-41d6-8a52-15725ccfa10d",
   "metadata": {},
   "outputs": [
    {
     "data": {
      "text/plain": [
       "162"
      ]
     },
     "execution_count": 201,
     "metadata": {},
     "output_type": "execute_result"
    }
   ],
   "source": [
    "len(selected_parent_features)"
   ]
  },
  {
   "cell_type": "markdown",
   "id": "ead46032-4ffc-4cb6-b91a-21ef2bfed34d",
   "metadata": {},
   "source": [
    "## Run XGBOOST/Random Forest Reduced Features ##"
   ]
  },
  {
   "cell_type": "code",
   "execution_count": 202,
   "id": "b4270795-3541-4a20-bbf2-14e71cdf4380",
   "metadata": {},
   "outputs": [],
   "source": [
    "demographic_df_fs = demographic_df.drop(columns=[col for col in demographic_df if col not in selected_parent_features])\n",
    "psychographic_df_fs = psychographic_df.drop(columns=[col for col in psychographic_df if col not in selected_parent_features])"
   ]
  },
  {
   "cell_type": "code",
   "execution_count": 203,
   "id": "dc1045ca-9f2d-44cd-bdd9-644d7de8bed0",
   "metadata": {},
   "outputs": [],
   "source": [
    "# demog_filled_fs.set_index('yougov_id', inplace=True)\n",
    "\n",
    "# demog_filled_fs = demog_filled_fs.drop(['pdlc_age','pdlc_generation','pdl_profile_oshlthau','pdlc_Macro_BARB_region'\n",
    "# ,'pdlc_profile_govregldn','pdl_profile_GOR', 'pdlc_ONS_urban'], axis = 1)\n",
    "\n",
    "demographic_df_fs_encoded = pd.get_dummies(demographic_df_fs)\n",
    "df_training_fs = demographic_df_fs_encoded.merge(psychographic_df_fs, on='yougov_id').merge(kpi_df, on='yougov_id')"
   ]
  },
  {
   "cell_type": "code",
   "execution_count": 204,
   "id": "eddd5be2-8f59-472e-a3a5-7b0fb127978b",
   "metadata": {},
   "outputs": [],
   "source": [
    "#Variable Set Up\n",
    "y = df_training_fs['KPI']\n",
    "X = df_training_fs.drop(['KPI'], axis = 1)"
   ]
  },
  {
   "cell_type": "code",
   "execution_count": 205,
   "id": "3456795b-8f14-44cf-84f5-f88481daf606",
   "metadata": {},
   "outputs": [],
   "source": [
    "#Execute this block if you are running an XGBOOST Model\n",
    "encoded_cols = X.columns\n",
    "import re\n",
    "regex = re.compile(r\"\\[|\\]|<\", re.IGNORECASE)\n",
    "X.columns = [regex.sub(\"_\", col) if any(x in str(col) for x in set(('[', ']', '<'))) else col for col in X.columns.values]"
   ]
  },
  {
   "cell_type": "code",
   "execution_count": 207,
   "id": "bc15e6b3-fef5-46fe-b7b1-dd65bcc3464e",
   "metadata": {},
   "outputs": [
    {
     "name": "stdout",
     "output_type": "stream",
     "text": [
      "[1.43e-05 1.99e-02 2.51e-02 ... 2.91e-01 3.60e-03 2.17e-01]\n"
     ]
    }
   ],
   "source": [
    "# Import train_test_split function\n",
    "from sklearn.model_selection import train_test_split\n",
    "from imblearn.over_sampling import SMOTE\n",
    "from xgboost import XGBClassifier\n",
    "\n",
    "y = y.astype('int')\n",
    "\n",
    "# Split dataset into training set and test set\n",
    "X_train, X_test, y_train, y_test = train_test_split(X, y, test_size=0.3, random_state=0, stratify=y)  # 70% training and 30% test\n",
    "\n",
    "# Calculate the percentage of '1' in the target variable\n",
    "percentage_of_1 = y_train.value_counts(normalize=True).get(1, 0)\n",
    "\n",
    "# Apply SMOTE if the percentage of '1' is less than 40%\n",
    "if percentage_of_1 < 0.4:\n",
    "    sm = SMOTE(random_state=0, sampling_strategy='auto')\n",
    "    X_train_res, y_train_res = sm.fit_resample(X_train, y_train)\n",
    "else:\n",
    "    X_train_res, y_train_res = X_train, y_train\n",
    "\n",
    "# Create a XGB Classifier\n",
    "clf_fs = XGBClassifier(n_jobs=80, random_state=42, n_estimators=1000, objective=\"binary:logistic\", eval_metric=\"auc\")\n",
    "\n",
    "# Train the model using the training sets\n",
    "clf_fs.fit(X_train_res, y_train_res)\n",
    "\n",
    "y_pred_train = clf_fs.predict(X_train_res)\n",
    "y_pred = clf_fs.predict(X_test)\n",
    "prob_rf_fs = clf_fs.predict_proba(X_test)[:, 1]\n",
    "print(prob_rf_fs)"
   ]
  },
  {
   "cell_type": "code",
   "execution_count": 208,
   "id": "d01c8841-2cb3-445a-b6a7-6ed9d94effe3",
   "metadata": {},
   "outputs": [
    {
     "data": {
      "text/plain": [
       "(26922,)"
      ]
     },
     "execution_count": 208,
     "metadata": {},
     "output_type": "execute_result"
    }
   ],
   "source": [
    "prob_rf_fs.shape"
   ]
  },
  {
   "cell_type": "code",
   "execution_count": 209,
   "id": "e4dbaa70-6529-4c35-b62d-8c27766c2404",
   "metadata": {},
   "outputs": [
    {
     "data": {
      "text/plain": [
       "2095.3745"
      ]
     },
     "execution_count": 209,
     "metadata": {},
     "output_type": "execute_result"
    }
   ],
   "source": [
    "prob_rf_fs.sum()"
   ]
  },
  {
   "cell_type": "code",
   "execution_count": 210,
   "id": "aa05a552-19a8-4c16-8dd8-fc9cf7d4e7a4",
   "metadata": {},
   "outputs": [],
   "source": [
    "X.columns = encoded_cols"
   ]
  },
  {
   "cell_type": "code",
   "execution_count": 211,
   "id": "49608921-2efa-4ee2-82c9-d9bf808ff538",
   "metadata": {},
   "outputs": [
    {
     "data": {
      "text/plain": [
       "(89739, 162)"
      ]
     },
     "execution_count": 211,
     "metadata": {},
     "output_type": "execute_result"
    }
   ],
   "source": [
    "X.shape"
   ]
  },
  {
   "cell_type": "markdown",
   "id": "61906287-037b-43c4-9db9-4517f8323087",
   "metadata": {},
   "source": [
    "## Check Confusion Matrix ##"
   ]
  },
  {
   "cell_type": "code",
   "execution_count": 212,
   "id": "a3e2d359-0558-48a7-a243-a70ddbea8de7",
   "metadata": {},
   "outputs": [
    {
     "name": "stdout",
     "output_type": "stream",
     "text": [
      "Confusion matrix, without normalization\n",
      "[[22510   411]\n",
      " [ 3863   138]]\n",
      "Normalized confusion matrix\n",
      "[[0.98 0.02]\n",
      " [0.97 0.03]]\n"
     ]
    },
    {
     "data": {
      "image/png": "[encoded data removed]",
      "text/plain": [
       "<Figure size 800x550 with 2 Axes>"
      ]
     },
     "metadata": {},
     "output_type": "display_data"
    },
    {
     "data": {
      "image/png": "[encoded data removed]",
      "text/plain": [
       "<Figure size 800x550 with 2 Axes>"
      ]
     },
     "metadata": {},
     "output_type": "display_data"
    }
   ],
   "source": [
    "np.set_printoptions(precision=2)\n",
    "\n",
    "# Plot non-normalized confusion matrix\n",
    "plot_confusion_matrix(y_test, y_pred, #classes,\n",
    "                      title='Confusion matrix, without normalization')\n",
    "\n",
    "# Plot normalized confusion matrix\n",
    "plot_confusion_matrix(y_test, y_pred, normalize=True,\n",
    "                      title='Normalized confusion matrix')\n",
    "\n",
    "plt.show()"
   ]
  },
  {
   "cell_type": "markdown",
   "id": "9f41649f-08a9-4211-9f07-534e94d497e6",
   "metadata": {},
   "source": [
    "### Accuracy of Training Dataset ###"
   ]
  },
  {
   "cell_type": "code",
   "execution_count": 213,
   "id": "78d8686b-cc3a-4e58-a373-9316a310a832",
   "metadata": {},
   "outputs": [
    {
     "name": "stdout",
     "output_type": "stream",
     "text": [
      "              precision    recall  f1-score   support\n",
      "\n",
      "           0       1.00      1.00      1.00     53480\n",
      "           1       1.00      1.00      1.00     22920\n",
      "\n",
      "    accuracy                           1.00     76400\n",
      "   macro avg       1.00      1.00      1.00     76400\n",
      "weighted avg       1.00      1.00      1.00     76400\n",
      "\n"
     ]
    }
   ],
   "source": [
    "print(metrics.classification_report(y_train_res, y_pred_train))"
   ]
  },
  {
   "cell_type": "markdown",
   "id": "b30190c9-5c4f-4619-bd85-5c11cc52d43f",
   "metadata": {},
   "source": [
    "### Accuracy of Test Dataset ###"
   ]
  },
  {
   "cell_type": "code",
   "execution_count": 214,
   "id": "97d6abfb-a3fb-42d6-ad61-36b2b34ae00a",
   "metadata": {},
   "outputs": [
    {
     "name": "stdout",
     "output_type": "stream",
     "text": [
      "              precision    recall  f1-score   support\n",
      "\n",
      "           0       0.85      0.98      0.91     22921\n",
      "           1       0.25      0.03      0.06      4001\n",
      "\n",
      "    accuracy                           0.84     26922\n",
      "   macro avg       0.55      0.51      0.49     26922\n",
      "weighted avg       0.76      0.84      0.79     26922\n",
      "\n"
     ]
    }
   ],
   "source": [
    "print(metrics.classification_report(y_test, y_pred))"
   ]
  },
  {
   "cell_type": "markdown",
   "id": "91b4eb43-9a78-41bc-a6b5-0f169f433a56",
   "metadata": {},
   "source": [
    "# Predict High Propensity Customers #\n",
    "\n",
    "\n",
    "*   Extract Dataset from BigQuery where respondents have not responded to the KPI question\n",
    "*   Remove features done at pre-processing\n",
    "*   Recode Psychographic variables as in pre-processing for training model\n",
    "*   Create X and Y variables\n",
    "*   One hot encoding\n",
    "*   Remove the features as identified in feature selection\n",
    "*   Predict Probability and append to the dataset"
   ]
  },
  {
   "cell_type": "code",
   "execution_count": 59,
   "id": "0e2e1278-bff3-45f2-9996-9856a6362806",
   "metadata": {},
   "outputs": [],
   "source": [
    "# demographic_df_fs = demographic_df.set_index('yougov_id')\n",
    "# psychographic_df_fs = psychographic_df.set_index('yougov_id')\n",
    "\n",
    "# demographic_df_fs = demographic_df_fs.drop(columns=[col for col in demographic_df_fs if col not in selected_parent_features])\n",
    "# psychographic_df_fs = psychographic_df_fs.drop(columns=[col for col in psychographic_df_fs if col not in selected_parent_features])\n",
    "\n",
    "# demographic_df_fs.reset_index(inplace = True)\n",
    "# psychographic_df_fs.reset_index(inplace = True)\n",
    "\n",
    "# # X = pd.DataFrame(demographic_df)\n",
    "# demog_filled_fs = DataFrameImputer().fit_transform(demographic_df)"
   ]
  },
  {
   "cell_type": "code",
   "execution_count": 60,
   "id": "d8d0397b-000a-494d-946b-6a57739ac525",
   "metadata": {},
   "outputs": [],
   "source": [
    "# demog_filled_fs.set_index('yougov_id', inplace=True)\n",
    "\n",
    "# demog_filled_fs = demog_filled_fs.drop(['pdlc_age','pdlc_generation','pdl_profile_oshlthau','pdlc_Macro_BARB_region'\n",
    "# ,'pdlc_profile_govregldn','pdl_profile_GOR', 'pdlc_ONS_urban'], axis = 1)\n",
    "\n",
    "# demog_filled_fs = pd.get_dummies(demog_filled_fs)\n",
    "# demog_filled_fs.reset_index(inplace = True)"
   ]
  },
  {
   "cell_type": "code",
   "execution_count": 215,
   "id": "7f9d70ef-d4fc-4fff-a08a-e571990f98c1",
   "metadata": {},
   "outputs": [
    {
     "data": {
      "text/html": [
       "<div>\n",
       "<style scoped>\n",
       "    .dataframe tbody tr th:only-of-type {\n",
       "        vertical-align: middle;\n",
       "    }\n",
       "\n",
       "    .dataframe tbody tr th {\n",
       "        vertical-align: top;\n",
       "    }\n",
       "\n",
       "    .dataframe thead th {\n",
       "        text-align: right;\n",
       "    }\n",
       "</style>\n",
       "<table border=\"1\" class=\"dataframe\">\n",
       "  <thead>\n",
       "    <tr style=\"text-align: right;\">\n",
       "      <th></th>\n",
       "      <th>pdlc_profile_govregldn</th>\n",
       "      <th>pdl_profile_socialgrade_cie</th>\n",
       "      <th>pdl_profile_work_type</th>\n",
       "      <th>pdlc_age</th>\n",
       "      <th>pdl_profile_gender</th>\n",
       "      <th>pdl_country_of_birth</th>\n",
       "      <th>pdlc_grandparent_yes_no</th>\n",
       "      <th>pdlc_oldest_child_hh</th>\n",
       "      <th>pdlc_youngest_child_hh</th>\n",
       "      <th>pdl_profile_household_children</th>\n",
       "      <th>...</th>\n",
       "      <th>attitudes_agree_ef485100_28e3_11e6_a405_005056900127</th>\n",
       "      <th>attitudes_agree_618a4fd0_99ee_11e7_9f92_d298beabf694</th>\n",
       "      <th>attitudes_agree_55fca685_1307_11e8_a288_aaf6ce8c0f17</th>\n",
       "      <th>attitudes_agree_89d34413_28e7_11e7_b3e6_d2249ae0b02d</th>\n",
       "      <th>issues_importance_69174610_97e7_11e4_90cd_005056900127</th>\n",
       "      <th>attitudes_agree_7723e660_0cdc_11e8_8e3b_bea5289e706c</th>\n",
       "      <th>issues_scale_99d7f500_9fb9_11e3_b2fd_005056900127</th>\n",
       "      <th>attitudes_agree_4170cf00_28e6_11e6_a405_005056900127</th>\n",
       "      <th>attitudes_agree_83202325_0cdc_11e8_a9fb_72f77b492c2d</th>\n",
       "      <th>attitudes_agree_6972cc35_1307_11e8_a288_aaf6ce8c0f17</th>\n",
       "    </tr>\n",
       "    <tr>\n",
       "      <th>yougov_id</th>\n",
       "      <th></th>\n",
       "      <th></th>\n",
       "      <th></th>\n",
       "      <th></th>\n",
       "      <th></th>\n",
       "      <th></th>\n",
       "      <th></th>\n",
       "      <th></th>\n",
       "      <th></th>\n",
       "      <th></th>\n",
       "      <th></th>\n",
       "      <th></th>\n",
       "      <th></th>\n",
       "      <th></th>\n",
       "      <th></th>\n",
       "      <th></th>\n",
       "      <th></th>\n",
       "      <th></th>\n",
       "      <th></th>\n",
       "      <th></th>\n",
       "      <th></th>\n",
       "    </tr>\n",
       "  </thead>\n",
       "  <tbody>\n",
       "    <tr>\n",
       "      <th>FRGTTOSDUTEVIH5ZK6GB4YKFCE</th>\n",
       "      <td>10</td>\n",
       "      <td>1</td>\n",
       "      <td>1</td>\n",
       "      <td>74</td>\n",
       "      <td>2</td>\n",
       "      <td>1</td>\n",
       "      <td>1</td>\n",
       "      <td>99</td>\n",
       "      <td>99</td>\n",
       "      <td>1</td>\n",
       "      <td>...</td>\n",
       "      <td>1.000</td>\n",
       "      <td>2.000</td>\n",
       "      <td>2.000</td>\n",
       "      <td>1.000</td>\n",
       "      <td>1.000</td>\n",
       "      <td>4.000</td>\n",
       "      <td>0.000</td>\n",
       "      <td>3.000</td>\n",
       "      <td>3.000</td>\n",
       "      <td>2.000</td>\n",
       "    </tr>\n",
       "    <tr>\n",
       "      <th>VJOP5EAKG23YU2FVA55MQONZMQ</th>\n",
       "      <td>6</td>\n",
       "      <td>1</td>\n",
       "      <td>1</td>\n",
       "      <td>58</td>\n",
       "      <td>1</td>\n",
       "      <td>1</td>\n",
       "      <td>2</td>\n",
       "      <td>99</td>\n",
       "      <td>99</td>\n",
       "      <td>1</td>\n",
       "      <td>...</td>\n",
       "      <td>1.000</td>\n",
       "      <td>4.000</td>\n",
       "      <td>3.000</td>\n",
       "      <td>1.000</td>\n",
       "      <td>1.000</td>\n",
       "      <td>4.000</td>\n",
       "      <td>0.000</td>\n",
       "      <td>3.000</td>\n",
       "      <td>4.000</td>\n",
       "      <td>3.000</td>\n",
       "    </tr>\n",
       "    <tr>\n",
       "      <th>KF3Y72AF5XZYONZWSOXCX65HL4</th>\n",
       "      <td>8</td>\n",
       "      <td>1</td>\n",
       "      <td>1</td>\n",
       "      <td>68</td>\n",
       "      <td>2</td>\n",
       "      <td>1</td>\n",
       "      <td>1</td>\n",
       "      <td>99</td>\n",
       "      <td>99</td>\n",
       "      <td>1</td>\n",
       "      <td>...</td>\n",
       "      <td>3.000</td>\n",
       "      <td>3.000</td>\n",
       "      <td>2.000</td>\n",
       "      <td>1.000</td>\n",
       "      <td>0.000</td>\n",
       "      <td>3.000</td>\n",
       "      <td>2.000</td>\n",
       "      <td>1.000</td>\n",
       "      <td>2.000</td>\n",
       "      <td>2.000</td>\n",
       "    </tr>\n",
       "    <tr>\n",
       "      <th>NREZ4PO6FMQXFBH6WVGQU5E2BI</th>\n",
       "      <td>8</td>\n",
       "      <td>1</td>\n",
       "      <td>1</td>\n",
       "      <td>67</td>\n",
       "      <td>1</td>\n",
       "      <td>15</td>\n",
       "      <td>1</td>\n",
       "      <td>99</td>\n",
       "      <td>99</td>\n",
       "      <td>1</td>\n",
       "      <td>...</td>\n",
       "      <td>3.000</td>\n",
       "      <td>3.000</td>\n",
       "      <td>3.000</td>\n",
       "      <td>1.000</td>\n",
       "      <td>0.000</td>\n",
       "      <td>4.000</td>\n",
       "      <td>2.000</td>\n",
       "      <td>1.000</td>\n",
       "      <td>3.000</td>\n",
       "      <td>3.000</td>\n",
       "    </tr>\n",
       "    <tr>\n",
       "      <th>VKPF7B6LTUREAVH4NJWSM7TWH4</th>\n",
       "      <td>9</td>\n",
       "      <td>1</td>\n",
       "      <td>1</td>\n",
       "      <td>65</td>\n",
       "      <td>1</td>\n",
       "      <td>1</td>\n",
       "      <td>2</td>\n",
       "      <td>99</td>\n",
       "      <td>99</td>\n",
       "      <td>1</td>\n",
       "      <td>...</td>\n",
       "      <td>3.000</td>\n",
       "      <td>3.000</td>\n",
       "      <td>3.000</td>\n",
       "      <td>1.000</td>\n",
       "      <td>1.000</td>\n",
       "      <td>3.000</td>\n",
       "      <td>1.000</td>\n",
       "      <td>2.000</td>\n",
       "      <td>3.000</td>\n",
       "      <td>2.000</td>\n",
       "    </tr>\n",
       "  </tbody>\n",
       "</table>\n",
       "<p>5 rows × 162 columns</p>\n",
       "</div>"
      ],
      "text/plain": [
       "                            pdlc_profile_govregldn  \\\n",
       "yougov_id                                            \n",
       "FRGTTOSDUTEVIH5ZK6GB4YKFCE                      10   \n",
       "VJOP5EAKG23YU2FVA55MQONZMQ                       6   \n",
       "KF3Y72AF5XZYONZWSOXCX65HL4                       8   \n",
       "NREZ4PO6FMQXFBH6WVGQU5E2BI                       8   \n",
       "VKPF7B6LTUREAVH4NJWSM7TWH4                       9   \n",
       "\n",
       "                            pdl_profile_socialgrade_cie  \\\n",
       "yougov_id                                                 \n",
       "FRGTTOSDUTEVIH5ZK6GB4YKFCE                            1   \n",
       "VJOP5EAKG23YU2FVA55MQONZMQ                            1   \n",
       "KF3Y72AF5XZYONZWSOXCX65HL4                            1   \n",
       "NREZ4PO6FMQXFBH6WVGQU5E2BI                            1   \n",
       "VKPF7B6LTUREAVH4NJWSM7TWH4                            1   \n",
       "\n",
       "                            pdl_profile_work_type  pdlc_age  \\\n",
       "yougov_id                                                     \n",
       "FRGTTOSDUTEVIH5ZK6GB4YKFCE                      1        74   \n",
       "VJOP5EAKG23YU2FVA55MQONZMQ                      1        58   \n",
       "KF3Y72AF5XZYONZWSOXCX65HL4                      1        68   \n",
       "NREZ4PO6FMQXFBH6WVGQU5E2BI                      1        67   \n",
       "VKPF7B6LTUREAVH4NJWSM7TWH4                      1        65   \n",
       "\n",
       "                            pdl_profile_gender  pdl_country_of_birth  \\\n",
       "yougov_id                                                              \n",
       "FRGTTOSDUTEVIH5ZK6GB4YKFCE                   2                     1   \n",
       "VJOP5EAKG23YU2FVA55MQONZMQ                   1                     1   \n",
       "KF3Y72AF5XZYONZWSOXCX65HL4                   2                     1   \n",
       "NREZ4PO6FMQXFBH6WVGQU5E2BI                   1                    15   \n",
       "VKPF7B6LTUREAVH4NJWSM7TWH4                   1                     1   \n",
       "\n",
       "                            pdlc_grandparent_yes_no  pdlc_oldest_child_hh  \\\n",
       "yougov_id                                                                   \n",
       "FRGTTOSDUTEVIH5ZK6GB4YKFCE                        1                    99   \n",
       "VJOP5EAKG23YU2FVA55MQONZMQ                        2                    99   \n",
       "KF3Y72AF5XZYONZWSOXCX65HL4                        1                    99   \n",
       "NREZ4PO6FMQXFBH6WVGQU5E2BI                        1                    99   \n",
       "VKPF7B6LTUREAVH4NJWSM7TWH4                        2                    99   \n",
       "\n",
       "                            pdlc_youngest_child_hh  \\\n",
       "yougov_id                                            \n",
       "FRGTTOSDUTEVIH5ZK6GB4YKFCE                      99   \n",
       "VJOP5EAKG23YU2FVA55MQONZMQ                      99   \n",
       "KF3Y72AF5XZYONZWSOXCX65HL4                      99   \n",
       "NREZ4PO6FMQXFBH6WVGQU5E2BI                      99   \n",
       "VKPF7B6LTUREAVH4NJWSM7TWH4                      99   \n",
       "\n",
       "                            pdl_profile_household_children  ...  \\\n",
       "yougov_id                                                   ...   \n",
       "FRGTTOSDUTEVIH5ZK6GB4YKFCE                               1  ...   \n",
       "VJOP5EAKG23YU2FVA55MQONZMQ                               1  ...   \n",
       "KF3Y72AF5XZYONZWSOXCX65HL4                               1  ...   \n",
       "NREZ4PO6FMQXFBH6WVGQU5E2BI                               1  ...   \n",
       "VKPF7B6LTUREAVH4NJWSM7TWH4                               1  ...   \n",
       "\n",
       "                            attitudes_agree_ef485100_28e3_11e6_a405_005056900127  \\\n",
       "yougov_id                                                                          \n",
       "FRGTTOSDUTEVIH5ZK6GB4YKFCE                                              1.000      \n",
       "VJOP5EAKG23YU2FVA55MQONZMQ                                              1.000      \n",
       "KF3Y72AF5XZYONZWSOXCX65HL4                                              3.000      \n",
       "NREZ4PO6FMQXFBH6WVGQU5E2BI                                              3.000      \n",
       "VKPF7B6LTUREAVH4NJWSM7TWH4                                              3.000      \n",
       "\n",
       "                            attitudes_agree_618a4fd0_99ee_11e7_9f92_d298beabf694  \\\n",
       "yougov_id                                                                          \n",
       "FRGTTOSDUTEVIH5ZK6GB4YKFCE                                              2.000      \n",
       "VJOP5EAKG23YU2FVA55MQONZMQ                                              4.000      \n",
       "KF3Y72AF5XZYONZWSOXCX65HL4                                              3.000      \n",
       "NREZ4PO6FMQXFBH6WVGQU5E2BI                                              3.000      \n",
       "VKPF7B6LTUREAVH4NJWSM7TWH4                                              3.000      \n",
       "\n",
       "                            attitudes_agree_55fca685_1307_11e8_a288_aaf6ce8c0f17  \\\n",
       "yougov_id                                                                          \n",
       "FRGTTOSDUTEVIH5ZK6GB4YKFCE                                              2.000      \n",
       "VJOP5EAKG23YU2FVA55MQONZMQ                                              3.000      \n",
       "KF3Y72AF5XZYONZWSOXCX65HL4                                              2.000      \n",
       "NREZ4PO6FMQXFBH6WVGQU5E2BI                                              3.000      \n",
       "VKPF7B6LTUREAVH4NJWSM7TWH4                                              3.000      \n",
       "\n",
       "                            attitudes_agree_89d34413_28e7_11e7_b3e6_d2249ae0b02d  \\\n",
       "yougov_id                                                                          \n",
       "FRGTTOSDUTEVIH5ZK6GB4YKFCE                                              1.000      \n",
       "VJOP5EAKG23YU2FVA55MQONZMQ                                              1.000      \n",
       "KF3Y72AF5XZYONZWSOXCX65HL4                                              1.000      \n",
       "NREZ4PO6FMQXFBH6WVGQU5E2BI                                              1.000      \n",
       "VKPF7B6LTUREAVH4NJWSM7TWH4                                              1.000      \n",
       "\n",
       "                            issues_importance_69174610_97e7_11e4_90cd_005056900127  \\\n",
       "yougov_id                                                                            \n",
       "FRGTTOSDUTEVIH5ZK6GB4YKFCE                                              1.000        \n",
       "VJOP5EAKG23YU2FVA55MQONZMQ                                              1.000        \n",
       "KF3Y72AF5XZYONZWSOXCX65HL4                                              0.000        \n",
       "NREZ4PO6FMQXFBH6WVGQU5E2BI                                              0.000        \n",
       "VKPF7B6LTUREAVH4NJWSM7TWH4                                              1.000        \n",
       "\n",
       "                            attitudes_agree_7723e660_0cdc_11e8_8e3b_bea5289e706c  \\\n",
       "yougov_id                                                                          \n",
       "FRGTTOSDUTEVIH5ZK6GB4YKFCE                                              4.000      \n",
       "VJOP5EAKG23YU2FVA55MQONZMQ                                              4.000      \n",
       "KF3Y72AF5XZYONZWSOXCX65HL4                                              3.000      \n",
       "NREZ4PO6FMQXFBH6WVGQU5E2BI                                              4.000      \n",
       "VKPF7B6LTUREAVH4NJWSM7TWH4                                              3.000      \n",
       "\n",
       "                            issues_scale_99d7f500_9fb9_11e3_b2fd_005056900127  \\\n",
       "yougov_id                                                                       \n",
       "FRGTTOSDUTEVIH5ZK6GB4YKFCE                                              0.000   \n",
       "VJOP5EAKG23YU2FVA55MQONZMQ                                              0.000   \n",
       "KF3Y72AF5XZYONZWSOXCX65HL4                                              2.000   \n",
       "NREZ4PO6FMQXFBH6WVGQU5E2BI                                              2.000   \n",
       "VKPF7B6LTUREAVH4NJWSM7TWH4                                              1.000   \n",
       "\n",
       "                            attitudes_agree_4170cf00_28e6_11e6_a405_005056900127  \\\n",
       "yougov_id                                                                          \n",
       "FRGTTOSDUTEVIH5ZK6GB4YKFCE                                              3.000      \n",
       "VJOP5EAKG23YU2FVA55MQONZMQ                                              3.000      \n",
       "KF3Y72AF5XZYONZWSOXCX65HL4                                              1.000      \n",
       "NREZ4PO6FMQXFBH6WVGQU5E2BI                                              1.000      \n",
       "VKPF7B6LTUREAVH4NJWSM7TWH4                                              2.000      \n",
       "\n",
       "                            attitudes_agree_83202325_0cdc_11e8_a9fb_72f77b492c2d  \\\n",
       "yougov_id                                                                          \n",
       "FRGTTOSDUTEVIH5ZK6GB4YKFCE                                              3.000      \n",
       "VJOP5EAKG23YU2FVA55MQONZMQ                                              4.000      \n",
       "KF3Y72AF5XZYONZWSOXCX65HL4                                              2.000      \n",
       "NREZ4PO6FMQXFBH6WVGQU5E2BI                                              3.000      \n",
       "VKPF7B6LTUREAVH4NJWSM7TWH4                                              3.000      \n",
       "\n",
       "                            attitudes_agree_6972cc35_1307_11e8_a288_aaf6ce8c0f17  \n",
       "yougov_id                                                                         \n",
       "FRGTTOSDUTEVIH5ZK6GB4YKFCE                                              2.000     \n",
       "VJOP5EAKG23YU2FVA55MQONZMQ                                              3.000     \n",
       "KF3Y72AF5XZYONZWSOXCX65HL4                                              2.000     \n",
       "NREZ4PO6FMQXFBH6WVGQU5E2BI                                              3.000     \n",
       "VKPF7B6LTUREAVH4NJWSM7TWH4                                              2.000     \n",
       "\n",
       "[5 rows x 162 columns]"
      ]
     },
     "execution_count": 215,
     "metadata": {},
     "output_type": "execute_result"
    }
   ],
   "source": [
    "df_prediction_fs  = demographic_df_fs.merge(psychographic_df_fs, how = 'inner', left_on = 'yougov_id', right_on = 'yougov_id')\n",
    "df_prediction_fs.head()"
   ]
  },
  {
   "cell_type": "markdown",
   "id": "0db6300a-6633-4b62-b5fb-3cc38eab1f43",
   "metadata": {},
   "source": [
    "## Replicating Data Pre-processing ##"
   ]
  },
  {
   "cell_type": "code",
   "execution_count": 62,
   "id": "6e5b6775-20d9-48e8-87c5-1655c8b18246",
   "metadata": {},
   "outputs": [],
   "source": [
    "# df_prediction_copy = df_prediction.copy()\n",
    "# yougov_ids = df_prediction.yougov_id"
   ]
  },
  {
   "cell_type": "code",
   "execution_count": 216,
   "id": "e3eb59f4-8072-4cfe-b3ea-f646a7545a9e",
   "metadata": {},
   "outputs": [
    {
     "name": "stdout",
     "output_type": "stream",
     "text": [
      "(89739, 162)\n",
      "(370024, 162)\n"
     ]
    }
   ],
   "source": [
    "#@title Replication Data Pre-processing \n",
    "df_prediction = df_prediction.drop(columns=[col for col in df_prediction if col not in selected_parent_features])\n",
    "\n",
    "print(X.shape)\n",
    "print(df_prediction.shape)"
   ]
  },
  {
   "cell_type": "markdown",
   "id": "82b35a59-f1aa-4e4e-bc53-c145d0196b0e",
   "metadata": {},
   "source": [
    "### Ensure the training and prediction dataset have the same number of variables ###"
   ]
  },
  {
   "cell_type": "code",
   "execution_count": 217,
   "id": "27264f8e-29f9-4c9b-a7e9-51286733d83e",
   "metadata": {},
   "outputs": [
    {
     "name": "stdout",
     "output_type": "stream",
     "text": [
      "(89739, 162)\n",
      "(370024, 162)\n"
     ]
    }
   ],
   "source": [
    "print(X.shape)\n",
    "print(df_prediction_fs.shape)"
   ]
  },
  {
   "cell_type": "markdown",
   "id": "96cf9116-33ad-47d5-934e-a53066cd43cd",
   "metadata": {},
   "source": [
    "### Append Probability to Prediction Dataset ###"
   ]
  },
  {
   "cell_type": "code",
   "execution_count": 218,
   "id": "3797b9db-47a7-41a6-acf5-2225207c37fe",
   "metadata": {},
   "outputs": [],
   "source": [
    "prob_rf_fs = clf_fs.predict_proba(df_prediction_fs)[:,1]"
   ]
  },
  {
   "cell_type": "code",
   "execution_count": 219,
   "id": "e66f4bef-030d-466c-9781-0e00909ecc99",
   "metadata": {},
   "outputs": [],
   "source": [
    "propensity = pd.DataFrame(prob_rf_fs)\n",
    "propensity.columns = ['probabilities']"
   ]
  },
  {
   "cell_type": "code",
   "execution_count": 220,
   "id": "4877c53b-db57-4f2b-a073-1e6c214e68b0",
   "metadata": {},
   "outputs": [],
   "source": [
    "df_prediction_fs.reset_index(inplace = True)\n",
    "yougov_ids = df_prediction_fs['yougov_id']"
   ]
  },
  {
   "cell_type": "code",
   "execution_count": 221,
   "id": "07731702-3580-45cd-bdb9-44e757cd3af0",
   "metadata": {},
   "outputs": [
    {
     "data": {
      "text/html": [
       "<div>\n",
       "<style scoped>\n",
       "    .dataframe tbody tr th:only-of-type {\n",
       "        vertical-align: middle;\n",
       "    }\n",
       "\n",
       "    .dataframe tbody tr th {\n",
       "        vertical-align: top;\n",
       "    }\n",
       "\n",
       "    .dataframe thead th {\n",
       "        text-align: right;\n",
       "    }\n",
       "</style>\n",
       "<table border=\"1\" class=\"dataframe\">\n",
       "  <thead>\n",
       "    <tr style=\"text-align: right;\">\n",
       "      <th></th>\n",
       "      <th>yougov_id</th>\n",
       "      <th>probabilities</th>\n",
       "    </tr>\n",
       "  </thead>\n",
       "  <tbody>\n",
       "    <tr>\n",
       "      <th>0</th>\n",
       "      <td>FRGTTOSDUTEVIH5ZK6GB4YKFCE</td>\n",
       "      <td>0.002</td>\n",
       "    </tr>\n",
       "    <tr>\n",
       "      <th>1</th>\n",
       "      <td>VJOP5EAKG23YU2FVA55MQONZMQ</td>\n",
       "      <td>0.026</td>\n",
       "    </tr>\n",
       "    <tr>\n",
       "      <th>2</th>\n",
       "      <td>KF3Y72AF5XZYONZWSOXCX65HL4</td>\n",
       "      <td>0.008</td>\n",
       "    </tr>\n",
       "    <tr>\n",
       "      <th>3</th>\n",
       "      <td>NREZ4PO6FMQXFBH6WVGQU5E2BI</td>\n",
       "      <td>0.017</td>\n",
       "    </tr>\n",
       "    <tr>\n",
       "      <th>4</th>\n",
       "      <td>VKPF7B6LTUREAVH4NJWSM7TWH4</td>\n",
       "      <td>0.123</td>\n",
       "    </tr>\n",
       "  </tbody>\n",
       "</table>\n",
       "</div>"
      ],
      "text/plain": [
       "                    yougov_id  probabilities\n",
       "0  FRGTTOSDUTEVIH5ZK6GB4YKFCE          0.002\n",
       "1  VJOP5EAKG23YU2FVA55MQONZMQ          0.026\n",
       "2  KF3Y72AF5XZYONZWSOXCX65HL4          0.008\n",
       "3  NREZ4PO6FMQXFBH6WVGQU5E2BI          0.017\n",
       "4  VKPF7B6LTUREAVH4NJWSM7TWH4          0.123"
      ]
     },
     "execution_count": 221,
     "metadata": {},
     "output_type": "execute_result"
    }
   ],
   "source": [
    "propensity_dataset = pd.merge(yougov_ids, propensity, how = 'inner', left_index = True, right_index = True)\n",
    "propensity_dataset.head()"
   ]
  },
  {
   "cell_type": "code",
   "execution_count": 69,
   "id": "946b6b9f-9e24-4068-9202-913fa1e19944",
   "metadata": {},
   "outputs": [],
   "source": [
    "# !pip install pandasql"
   ]
  },
  {
   "cell_type": "markdown",
   "id": "995a742c-0af0-4c26-a36d-4673a36bed61",
   "metadata": {},
   "source": [
    "## Create 20 Bins - for propensity segments ##\n",
    "\n",
    "*We shall create 20 equal(ish) sized groups based on the precision of probabilities. The ones with the highest probability (propensity) to convert/consider/purchase will have the bucket number **1**. This will allow us to choose various sizes of High propensity segments.*"
   ]
  },
  {
   "cell_type": "code",
   "execution_count": 222,
   "id": "8124d210-9cac-43b5-8327-b4d28f2b5e48",
   "metadata": {},
   "outputs": [
    {
     "data": {
      "text/html": [
       "<div>\n",
       "<style scoped>\n",
       "    .dataframe tbody tr th:only-of-type {\n",
       "        vertical-align: middle;\n",
       "    }\n",
       "\n",
       "    .dataframe tbody tr th {\n",
       "        vertical-align: top;\n",
       "    }\n",
       "\n",
       "    .dataframe thead th {\n",
       "        text-align: right;\n",
       "    }\n",
       "</style>\n",
       "<table border=\"1\" class=\"dataframe\">\n",
       "  <thead>\n",
       "    <tr style=\"text-align: right;\">\n",
       "      <th></th>\n",
       "      <th>yougov_id</th>\n",
       "      <th>probabilities</th>\n",
       "      <th>Segment_bucket</th>\n",
       "    </tr>\n",
       "  </thead>\n",
       "  <tbody>\n",
       "    <tr>\n",
       "      <th>0</th>\n",
       "      <td>FRGTTOSDUTEVIH5ZK6GB4YKFCE</td>\n",
       "      <td>0.002</td>\n",
       "      <td>18</td>\n",
       "    </tr>\n",
       "    <tr>\n",
       "      <th>1</th>\n",
       "      <td>VJOP5EAKG23YU2FVA55MQONZMQ</td>\n",
       "      <td>0.026</td>\n",
       "      <td>11</td>\n",
       "    </tr>\n",
       "    <tr>\n",
       "      <th>2</th>\n",
       "      <td>KF3Y72AF5XZYONZWSOXCX65HL4</td>\n",
       "      <td>0.008</td>\n",
       "      <td>16</td>\n",
       "    </tr>\n",
       "    <tr>\n",
       "      <th>3</th>\n",
       "      <td>NREZ4PO6FMQXFBH6WVGQU5E2BI</td>\n",
       "      <td>0.017</td>\n",
       "      <td>13</td>\n",
       "    </tr>\n",
       "    <tr>\n",
       "      <th>4</th>\n",
       "      <td>VKPF7B6LTUREAVH4NJWSM7TWH4</td>\n",
       "      <td>0.123</td>\n",
       "      <td>5</td>\n",
       "    </tr>\n",
       "  </tbody>\n",
       "</table>\n",
       "</div>"
      ],
      "text/plain": [
       "                    yougov_id  probabilities Segment_bucket\n",
       "0  FRGTTOSDUTEVIH5ZK6GB4YKFCE          0.002             18\n",
       "1  VJOP5EAKG23YU2FVA55MQONZMQ          0.026             11\n",
       "2  KF3Y72AF5XZYONZWSOXCX65HL4          0.008             16\n",
       "3  NREZ4PO6FMQXFBH6WVGQU5E2BI          0.017             13\n",
       "4  VKPF7B6LTUREAVH4NJWSM7TWH4          0.123              5"
      ]
     },
     "execution_count": 222,
     "metadata": {},
     "output_type": "execute_result"
    }
   ],
   "source": [
    "import pandas as pd\n",
    "# propensity_dataset_segment2 = propensity_dataset_segment.copy()\n",
    "\n",
    "labels = []\n",
    "i = 20\n",
    "while i >= 1:\n",
    "    labels.append(i)\n",
    "    i -=1\n",
    "\n",
    "propensity_dataset['Segment_bucket'] = pd.qcut(propensity_dataset['probabilities'], 20, precision = 1000, labels=labels)\n",
    "propensity_dataset.head()"
   ]
  },
  {
   "cell_type": "markdown",
   "id": "56bf1097-e1cf-4431-a335-830b01254b91",
   "metadata": {},
   "source": [
    "### Check the Bin Probability Breakdown ###"
   ]
  },
  {
   "cell_type": "code",
   "execution_count": 223,
   "id": "b58e5ef9-0463-4e8e-8c4c-8658b840c323",
   "metadata": {},
   "outputs": [
    {
     "data": {
      "text/html": [
       "<div>\n",
       "<style scoped>\n",
       "    .dataframe tbody tr th:only-of-type {\n",
       "        vertical-align: middle;\n",
       "    }\n",
       "\n",
       "    .dataframe tbody tr th {\n",
       "        vertical-align: top;\n",
       "    }\n",
       "\n",
       "    .dataframe thead th {\n",
       "        text-align: right;\n",
       "    }\n",
       "</style>\n",
       "<table border=\"1\" class=\"dataframe\">\n",
       "  <thead>\n",
       "    <tr style=\"text-align: right;\">\n",
       "      <th></th>\n",
       "      <th>(probabilities, min)</th>\n",
       "      <th>(probabilities, max)</th>\n",
       "      <th>Panellists</th>\n",
       "    </tr>\n",
       "    <tr>\n",
       "      <th>Segment_bucket</th>\n",
       "      <th></th>\n",
       "      <th></th>\n",
       "      <th></th>\n",
       "    </tr>\n",
       "  </thead>\n",
       "  <tbody>\n",
       "    <tr>\n",
       "      <th>1</th>\n",
       "      <td>0.463</td>\n",
       "      <td>0.997</td>\n",
       "      <td>18502</td>\n",
       "    </tr>\n",
       "    <tr>\n",
       "      <th>2</th>\n",
       "      <td>0.266</td>\n",
       "      <td>0.463</td>\n",
       "      <td>18501</td>\n",
       "    </tr>\n",
       "    <tr>\n",
       "      <th>3</th>\n",
       "      <td>0.183</td>\n",
       "      <td>0.266</td>\n",
       "      <td>18501</td>\n",
       "    </tr>\n",
       "    <tr>\n",
       "      <th>4</th>\n",
       "      <td>0.135</td>\n",
       "      <td>0.183</td>\n",
       "      <td>18501</td>\n",
       "    </tr>\n",
       "    <tr>\n",
       "      <th>5</th>\n",
       "      <td>0.103</td>\n",
       "      <td>0.135</td>\n",
       "      <td>18501</td>\n",
       "    </tr>\n",
       "    <tr>\n",
       "      <th>6</th>\n",
       "      <td>0.080</td>\n",
       "      <td>0.103</td>\n",
       "      <td>18501</td>\n",
       "    </tr>\n",
       "    <tr>\n",
       "      <th>7</th>\n",
       "      <td>0.063</td>\n",
       "      <td>0.080</td>\n",
       "      <td>18502</td>\n",
       "    </tr>\n",
       "    <tr>\n",
       "      <th>8</th>\n",
       "      <td>0.050</td>\n",
       "      <td>0.063</td>\n",
       "      <td>18501</td>\n",
       "    </tr>\n",
       "    <tr>\n",
       "      <th>9</th>\n",
       "      <td>0.040</td>\n",
       "      <td>0.050</td>\n",
       "      <td>18501</td>\n",
       "    </tr>\n",
       "    <tr>\n",
       "      <th>10</th>\n",
       "      <td>0.032</td>\n",
       "      <td>0.040</td>\n",
       "      <td>18501</td>\n",
       "    </tr>\n",
       "    <tr>\n",
       "      <th>11</th>\n",
       "      <td>0.026</td>\n",
       "      <td>0.032</td>\n",
       "      <td>18501</td>\n",
       "    </tr>\n",
       "    <tr>\n",
       "      <th>12</th>\n",
       "      <td>0.020</td>\n",
       "      <td>0.026</td>\n",
       "      <td>18501</td>\n",
       "    </tr>\n",
       "    <tr>\n",
       "      <th>13</th>\n",
       "      <td>0.016</td>\n",
       "      <td>0.020</td>\n",
       "      <td>18501</td>\n",
       "    </tr>\n",
       "    <tr>\n",
       "      <th>14</th>\n",
       "      <td>0.012</td>\n",
       "      <td>0.016</td>\n",
       "      <td>18502</td>\n",
       "    </tr>\n",
       "    <tr>\n",
       "      <th>15</th>\n",
       "      <td>0.009</td>\n",
       "      <td>0.012</td>\n",
       "      <td>18501</td>\n",
       "    </tr>\n",
       "    <tr>\n",
       "      <th>16</th>\n",
       "      <td>0.006</td>\n",
       "      <td>0.009</td>\n",
       "      <td>18501</td>\n",
       "    </tr>\n",
       "    <tr>\n",
       "      <th>17</th>\n",
       "      <td>0.004</td>\n",
       "      <td>0.006</td>\n",
       "      <td>18501</td>\n",
       "    </tr>\n",
       "    <tr>\n",
       "      <th>18</th>\n",
       "      <td>0.002</td>\n",
       "      <td>0.004</td>\n",
       "      <td>18501</td>\n",
       "    </tr>\n",
       "    <tr>\n",
       "      <th>19</th>\n",
       "      <td>0.001</td>\n",
       "      <td>0.002</td>\n",
       "      <td>18501</td>\n",
       "    </tr>\n",
       "    <tr>\n",
       "      <th>20</th>\n",
       "      <td>0.000</td>\n",
       "      <td>0.001</td>\n",
       "      <td>18502</td>\n",
       "    </tr>\n",
       "  </tbody>\n",
       "</table>\n",
       "</div>"
      ],
      "text/plain": [
       "                (probabilities, min)  (probabilities, max)  Panellists\n",
       "Segment_bucket                                                        \n",
       "1                              0.463                 0.997       18502\n",
       "2                              0.266                 0.463       18501\n",
       "3                              0.183                 0.266       18501\n",
       "4                              0.135                 0.183       18501\n",
       "5                              0.103                 0.135       18501\n",
       "6                              0.080                 0.103       18501\n",
       "7                              0.063                 0.080       18502\n",
       "8                              0.050                 0.063       18501\n",
       "9                              0.040                 0.050       18501\n",
       "10                             0.032                 0.040       18501\n",
       "11                             0.026                 0.032       18501\n",
       "12                             0.020                 0.026       18501\n",
       "13                             0.016                 0.020       18501\n",
       "14                             0.012                 0.016       18502\n",
       "15                             0.009                 0.012       18501\n",
       "16                             0.006                 0.009       18501\n",
       "17                             0.004                 0.006       18501\n",
       "18                             0.002                 0.004       18501\n",
       "19                             0.001                 0.002       18501\n",
       "20                             0.000                 0.001       18502"
      ]
     },
     "execution_count": 223,
     "metadata": {},
     "output_type": "execute_result"
    }
   ],
   "source": [
    "propensity_dataset_agg = propensity_dataset.copy()\n",
    "propensity_dataset_agg.drop('yougov_id', inplace = True, axis = 1)\n",
    "propensity_agg = pd.DataFrame(propensity_dataset_agg.groupby('Segment_bucket').agg(['min', 'max']))\n",
    "id_persegment = pd.DataFrame(propensity_dataset.groupby('Segment_bucket').yougov_id.nunique())\n",
    "id_persegment.rename({'yougov_id': 'Panellists'}, axis=1, inplace=True)\n",
    "pd.merge(propensity_agg, id_persegment, how = 'inner', left_index = True, right_index = True).sort_values('Segment_bucket', ascending=False)"
   ]
  },
  {
   "cell_type": "code",
   "execution_count": 224,
   "id": "78aae871-658d-44ce-87ee-51e69e0bce89",
   "metadata": {},
   "outputs": [],
   "source": [
    "training_kpi = pd.DataFrame(y)\n",
    "training_kpi.reset_index(inplace = True)"
   ]
  },
  {
   "cell_type": "code",
   "execution_count": 225,
   "id": "2e7bf6bd-7141-4923-a5e2-60bf72c17658",
   "metadata": {},
   "outputs": [
    {
     "data": {
      "text/plain": [
       "(280285, 3)"
      ]
     },
     "execution_count": 225,
     "metadata": {},
     "output_type": "execute_result"
    }
   ],
   "source": [
    "propensity_dataset_exc = propensity_dataset[~propensity_dataset.yougov_id.isin(training_kpi.yougov_id)]\n",
    "propensity_dataset_exc.shape"
   ]
  },
  {
   "cell_type": "code",
   "execution_count": 74,
   "id": "e8545bcf-3450-412b-87af-4f952015cf28",
   "metadata": {},
   "outputs": [],
   "source": [
    "# Write data to excel\n",
    "# df_selected_feature.to_excel('./data/df_selected_feature.xlsx')\n",
    "# propensity_dataset.to_csv('./data/qcut_test.csv')"
   ]
  },
  {
   "cell_type": "markdown",
   "id": "c0db3bad-1c5a-403a-8ba0-2a927cc1c372",
   "metadata": {},
   "source": [
    "### Concatenate Training & Prediction Dataset ###"
   ]
  },
  {
   "cell_type": "code",
   "execution_count": 226,
   "id": "78b97b7b-c1c6-4d6b-b556-471eef004318",
   "metadata": {},
   "outputs": [
    {
     "data": {
      "text/html": [
       "<div>\n",
       "<style scoped>\n",
       "    .dataframe tbody tr th:only-of-type {\n",
       "        vertical-align: middle;\n",
       "    }\n",
       "\n",
       "    .dataframe tbody tr th {\n",
       "        vertical-align: top;\n",
       "    }\n",
       "\n",
       "    .dataframe thead th {\n",
       "        text-align: right;\n",
       "    }\n",
       "</style>\n",
       "<table border=\"1\" class=\"dataframe\">\n",
       "  <thead>\n",
       "    <tr style=\"text-align: right;\">\n",
       "      <th></th>\n",
       "      <th>yougov_id</th>\n",
       "      <th>Segment_bucket</th>\n",
       "      <th>Client</th>\n",
       "      <th>Segment_bucket_meaning</th>\n",
       "    </tr>\n",
       "  </thead>\n",
       "  <tbody>\n",
       "    <tr>\n",
       "      <th>0</th>\n",
       "      <td>FRGTTOSDUTEVIH5ZK6GB4YKFCE</td>\n",
       "      <td>18</td>\n",
       "      <td>Kia</td>\n",
       "      <td>1-Highest Propensity, 20-Lowest</td>\n",
       "    </tr>\n",
       "    <tr>\n",
       "      <th>1</th>\n",
       "      <td>KF3Y72AF5XZYONZWSOXCX65HL4</td>\n",
       "      <td>16</td>\n",
       "      <td>Kia</td>\n",
       "      <td>1-Highest Propensity, 20-Lowest</td>\n",
       "    </tr>\n",
       "    <tr>\n",
       "      <th>2</th>\n",
       "      <td>NREZ4PO6FMQXFBH6WVGQU5E2BI</td>\n",
       "      <td>13</td>\n",
       "      <td>Kia</td>\n",
       "      <td>1-Highest Propensity, 20-Lowest</td>\n",
       "    </tr>\n",
       "    <tr>\n",
       "      <th>3</th>\n",
       "      <td>VKPF7B6LTUREAVH4NJWSM7TWH4</td>\n",
       "      <td>5</td>\n",
       "      <td>Kia</td>\n",
       "      <td>1-Highest Propensity, 20-Lowest</td>\n",
       "    </tr>\n",
       "    <tr>\n",
       "      <th>4</th>\n",
       "      <td>SYI7UGFWPCKRSNRVEWVYGBMTDI</td>\n",
       "      <td>5</td>\n",
       "      <td>Kia</td>\n",
       "      <td>1-Highest Propensity, 20-Lowest</td>\n",
       "    </tr>\n",
       "  </tbody>\n",
       "</table>\n",
       "</div>"
      ],
      "text/plain": [
       "                    yougov_id  Segment_bucket Client  \\\n",
       "0  FRGTTOSDUTEVIH5ZK6GB4YKFCE              18    Kia   \n",
       "1  KF3Y72AF5XZYONZWSOXCX65HL4              16    Kia   \n",
       "2  NREZ4PO6FMQXFBH6WVGQU5E2BI              13    Kia   \n",
       "3  VKPF7B6LTUREAVH4NJWSM7TWH4               5    Kia   \n",
       "4  SYI7UGFWPCKRSNRVEWVYGBMTDI               5    Kia   \n",
       "\n",
       "            Segment_bucket_meaning  \n",
       "0  1-Highest Propensity, 20-Lowest  \n",
       "1  1-Highest Propensity, 20-Lowest  \n",
       "2  1-Highest Propensity, 20-Lowest  \n",
       "3  1-Highest Propensity, 20-Lowest  \n",
       "4  1-Highest Propensity, 20-Lowest  "
      ]
     },
     "execution_count": 226,
     "metadata": {},
     "output_type": "execute_result"
    }
   ],
   "source": [
    "df_training2 = training_kpi[['yougov_id', 'KPI']]\n",
    "df_training2.rename({'KPI': 'Segment_bucket'}, axis=1, inplace=True)\n",
    "df_training2=df_training2.replace([0],[20])\n",
    "final_propensity_dataset_segment = pd.concat([propensity_dataset_exc[['yougov_id','Segment_bucket']], df_training2], ignore_index=True)\n",
    "final_propensity_dataset_segment['Client'] = Client_name #change this\n",
    "final_propensity_dataset_segment['Segment_bucket_meaning'] = Segment_meaning\n",
    "final_propensity_dataset_segment.head()"
   ]
  },
  {
   "cell_type": "markdown",
   "id": "fc5a3a55-9562-456e-8aeb-93dd00f4c9ff",
   "metadata": {},
   "source": [
    "## Adding a datetime element to make the file name unique ##"
   ]
  },
  {
   "cell_type": "code",
   "execution_count": 227,
   "id": "0257f20f-a4b0-4d79-a1b3-4f9df9c140a1",
   "metadata": {},
   "outputs": [
    {
     "name": "stdout",
     "output_type": "stream",
     "text": [
      "date and time = 20230425195102\n"
     ]
    }
   ],
   "source": [
    "from datetime import datetime\n",
    "# datetime object containing current date and time\n",
    "now = datetime.now()\n",
    "# dd/mm/YY H:M:S\n",
    "dt_string = now.strftime(\"%Y%m%d%H%M%S\")\n",
    "print(\"date and time =\", dt_string)"
   ]
  },
  {
   "cell_type": "code",
   "execution_count": 228,
   "id": "f03ed043-93fd-4eb4-b38d-4bd3b20c5667",
   "metadata": {},
   "outputs": [
    {
     "data": {
      "text/html": [
       "<div>\n",
       "<style scoped>\n",
       "    .dataframe tbody tr th:only-of-type {\n",
       "        vertical-align: middle;\n",
       "    }\n",
       "\n",
       "    .dataframe tbody tr th {\n",
       "        vertical-align: top;\n",
       "    }\n",
       "\n",
       "    .dataframe thead th {\n",
       "        text-align: right;\n",
       "    }\n",
       "</style>\n",
       "<table border=\"1\" class=\"dataframe\">\n",
       "  <thead>\n",
       "    <tr style=\"text-align: right;\">\n",
       "      <th></th>\n",
       "      <th>yougov_id</th>\n",
       "      <th>Segment_bucket</th>\n",
       "      <th>Client</th>\n",
       "      <th>Segment_bucket_meaning</th>\n",
       "      <th>datetime</th>\n",
       "    </tr>\n",
       "  </thead>\n",
       "  <tbody>\n",
       "    <tr>\n",
       "      <th>0</th>\n",
       "      <td>FRGTTOSDUTEVIH5ZK6GB4YKFCE</td>\n",
       "      <td>18</td>\n",
       "      <td>Kia</td>\n",
       "      <td>1-Highest Propensity, 20-Lowest</td>\n",
       "      <td>20230425195102</td>\n",
       "    </tr>\n",
       "    <tr>\n",
       "      <th>1</th>\n",
       "      <td>KF3Y72AF5XZYONZWSOXCX65HL4</td>\n",
       "      <td>16</td>\n",
       "      <td>Kia</td>\n",
       "      <td>1-Highest Propensity, 20-Lowest</td>\n",
       "      <td>20230425195102</td>\n",
       "    </tr>\n",
       "    <tr>\n",
       "      <th>2</th>\n",
       "      <td>NREZ4PO6FMQXFBH6WVGQU5E2BI</td>\n",
       "      <td>13</td>\n",
       "      <td>Kia</td>\n",
       "      <td>1-Highest Propensity, 20-Lowest</td>\n",
       "      <td>20230425195102</td>\n",
       "    </tr>\n",
       "    <tr>\n",
       "      <th>3</th>\n",
       "      <td>VKPF7B6LTUREAVH4NJWSM7TWH4</td>\n",
       "      <td>5</td>\n",
       "      <td>Kia</td>\n",
       "      <td>1-Highest Propensity, 20-Lowest</td>\n",
       "      <td>20230425195102</td>\n",
       "    </tr>\n",
       "    <tr>\n",
       "      <th>4</th>\n",
       "      <td>SYI7UGFWPCKRSNRVEWVYGBMTDI</td>\n",
       "      <td>5</td>\n",
       "      <td>Kia</td>\n",
       "      <td>1-Highest Propensity, 20-Lowest</td>\n",
       "      <td>20230425195102</td>\n",
       "    </tr>\n",
       "  </tbody>\n",
       "</table>\n",
       "</div>"
      ],
      "text/plain": [
       "                    yougov_id  Segment_bucket Client  \\\n",
       "0  FRGTTOSDUTEVIH5ZK6GB4YKFCE              18    Kia   \n",
       "1  KF3Y72AF5XZYONZWSOXCX65HL4              16    Kia   \n",
       "2  NREZ4PO6FMQXFBH6WVGQU5E2BI              13    Kia   \n",
       "3  VKPF7B6LTUREAVH4NJWSM7TWH4               5    Kia   \n",
       "4  SYI7UGFWPCKRSNRVEWVYGBMTDI               5    Kia   \n",
       "\n",
       "            Segment_bucket_meaning        datetime  \n",
       "0  1-Highest Propensity, 20-Lowest  20230425195102  \n",
       "1  1-Highest Propensity, 20-Lowest  20230425195102  \n",
       "2  1-Highest Propensity, 20-Lowest  20230425195102  \n",
       "3  1-Highest Propensity, 20-Lowest  20230425195102  \n",
       "4  1-Highest Propensity, 20-Lowest  20230425195102  "
      ]
     },
     "execution_count": 228,
     "metadata": {},
     "output_type": "execute_result"
    }
   ],
   "source": [
    "final_propensity_dataset_segment['datetime'] = dt_string\n",
    "final_propensity_dataset_segment.head()"
   ]
  },
  {
   "cell_type": "markdown",
   "id": "9c0f2487-a111-497b-91a3-cc37f70f62d4",
   "metadata": {},
   "source": [
    "## Load the Propensity Dataset Onto BigQuery for further Analysis ##"
   ]
  },
  {
   "cell_type": "code",
   "execution_count": 229,
   "id": "aea1d032-4ad3-4a17-ad72-7110b17e8e64",
   "metadata": {},
   "outputs": [],
   "source": [
    "import pandas as pd\n",
    "final_propensity_dataset_segment.to_csv(f'gs://data-science-drops/propensity_model/propensity_model_{brandid}_{dt_string}.csv', index = False)"
   ]
  },
  {
   "cell_type": "code",
   "execution_count": 79,
   "id": "09c0ed6d-9d12-4001-9db7-30c694138cde",
   "metadata": {},
   "outputs": [],
   "source": [
    "# !pip install pandas-gbq"
   ]
  },
  {
   "cell_type": "code",
   "execution_count": 230,
   "id": "56245e80-1467-4be3-9348-782ae30e25e5",
   "metadata": {},
   "outputs": [
    {
     "name": "stderr",
     "output_type": "stream",
     "text": [
      "100%|██████████| 1/1 [00:00<00:00, 19691.57it/s]"
     ]
    },
    {
     "name": "stdout",
     "output_type": "stream",
     "text": [
      "370024 rows added to Converged_Production_Tools.fct_propensity_models_deduped\n"
     ]
    },
    {
     "name": "stderr",
     "output_type": "stream",
     "text": [
      "\n"
     ]
    }
   ],
   "source": [
    "import pandas as pd\n",
    "\n",
    "# set the credentials for BigQuery\n",
    "project_id = 'majestic-gizmo-216409'\n",
    "# credentials = 'path/to/credentials.json'\n",
    "\n",
    "# set the name of the BigQuery dataset and table\n",
    "dataset_name = 'Converged_Production_Tools'\n",
    "table_name = 'fct_propensity_models_deduped'\n",
    "\n",
    "\n",
    "# insert the DataFrame into the existing BigQuery table\n",
    "final_propensity_dataset_segment.to_gbq(f'{dataset_name}.{table_name}', project_id=project_id\n",
    "                                        , if_exists='append')\n",
    "\n",
    "print(f'{len(final_propensity_dataset_segment)} rows added to {dataset_name}.{table_name}')"
   ]
  },
  {
   "cell_type": "code",
   "execution_count": 81,
   "id": "6756695c-2d63-43b0-91fa-673c5fa5f0b5",
   "metadata": {},
   "outputs": [],
   "source": [
    "# def load_table_csv(table_id):\n",
    "\n",
    "#     # [START bigquery_load_table_gcs_avro]\n",
    "#     from google.cloud import bigquery\n",
    "#     import os\n",
    "\n",
    "#     # Construct a BigQuery client object.\n",
    "#     client = bigquery.Client(project = 'majestic-gizmo-216409')  \n",
    "\n",
    "#     # table_id = \"your-project.your_dataset.your_table_name\n",
    "#     # MAX_BAD_RECORDS = 100\n",
    "\n",
    "#     #job_config = bigquery.LoadJobConfig(autodetect=True, source_format=bigquery.SourceFormat.CSV)\n",
    "#     job_config = bigquery.LoadJobConfig(    \n",
    "#         schema = [bigquery.SchemaField('yougov_id', 'STRING', mode='Nullable'),                 \n",
    "#                   bigquery.SchemaField('Segment_bucket', 'INTEGER', mode='Nullable'),\n",
    "#                   bigquery.SchemaField('client', 'STRING', mode='Nullable'),\n",
    "#                   bigquery.SchemaField('segment_bucket_meaning', 'STRING', mode='Nullable'),\n",
    "#                   bigquery.SchemaField('datetime', 'BigNumeric', mode='Nullable'),],skip_leading_rows =1, max_bad_records = 0, source_format=bigquery.SourceFormat.CSV)\n",
    "\n",
    "#     uri = \"gs://data-science-drops/propensity_model/propensity_model*.csv\"\n",
    "\n",
    "#     load_job = client.load_table_from_uri(uri, table_id, job_config=job_config)  # Make an API request.\n",
    "#     load_job.result()  # Waits for the job to complete.\n",
    "\n",
    "#     destination_table = client.get_table(table_id)\n",
    "#     print(\"Loaded {} rows.\".format(destination_table.num_rows))"
   ]
  },
  {
   "cell_type": "code",
   "execution_count": 82,
   "id": "0c1769f6-00ef-44ee-87dc-8ad08faec9e8",
   "metadata": {},
   "outputs": [],
   "source": [
    "# load_table_csv(\"majestic-gizmo-216409.Converged_Production_Tools.propensity_models\")"
   ]
  },
  {
   "cell_type": "code",
   "execution_count": null,
   "id": "83ab15d4-ce85-4b3a-ba55-545ff5aa22e7",
   "metadata": {},
   "outputs": [],
   "source": []
  }
 ],
 "metadata": {
  "environment": {
   "kernel": "python3",
   "name": "common-cu110.m107",
   "type": "gcloud",
   "uri": "gcr.io/deeplearning-platform-release/base-cu110:m107"
  },
  "kernelspec": {
   "display_name": "Python 3",
   "language": "python",
   "name": "python3"
  },
  "language_info": {
   "codemirror_mode": {
    "name": "ipython",
    "version": 3
   },
   "file_extension": ".py",
   "mimetype": "text/x-python",
   "name": "python",
   "nbconvert_exporter": "python",
   "pygments_lexer": "ipython3",
   "version": "3.7.12"
  }
 },
 "nbformat": 4,
 "nbformat_minor": 5
}
